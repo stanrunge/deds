{
 "cells": [
  {
   "cell_type": "markdown",
   "id": "a452de9c",
   "metadata": {},
   "source": [
    "# Les 3"
   ]
  },
  {
   "cell_type": "code",
   "execution_count": 13,
   "id": "4d54b730",
   "metadata": {},
   "outputs": [],
   "source": [
    "from abc import ABC, abstractmethod\n",
    "\n",
    "\n",
    "class LinkedList(ABC):\n",
    "    @abstractmethod\n",
    "    def toString(self) -> str:\n",
    "        pass\n",
    "\n",
    "    @abstractmethod\n",
    "    def length(self) -> int:\n",
    "        pass\n",
    "\n",
    "    @abstractmethod\n",
    "    def addFirst(self, value) -> \"LinkedList\":\n",
    "        pass\n",
    "\n",
    "    @abstractmethod\n",
    "    def remove(self, value) -> \"LinkedList\":\n",
    "        pass\n",
    "\n",
    "    @abstractmethod\n",
    "    def smallest(self):\n",
    "        pass\n",
    "\n",
    "    @abstractmethod\n",
    "    def sortSimple(self) -> \"LinkedList\":\n",
    "        pass\n",
    "\n",
    "    @abstractmethod\n",
    "    def sortMerge(self) -> \"LinkedList\":\n",
    "        pass\n",
    "\n",
    "    @abstractmethod\n",
    "    def uniq(self) -> int:\n",
    "        pass\n",
    "\n",
    "    @abstractmethod\n",
    "    def _uniq_helper(self, prev) -> int:\n",
    "        pass\n",
    "\n",
    "    @abstractmethod\n",
    "    def subList(self, start: int, end: int, index: int) -> \"LinkedList\":\n",
    "        pass\n",
    "\n",
    "    @abstractmethod\n",
    "    def merge(self, other: \"LinkedList\") -> \"LinkedList\":\n",
    "        pass\n",
    "\n",
    "\n",
    "class LinkedListEmpty(LinkedList):\n",
    "    def toString(self) -> str:\n",
    "        return \"\"\n",
    "\n",
    "    def length(self) -> int:\n",
    "        return 0\n",
    "\n",
    "    def addFirst(self, value):\n",
    "        return LinkedListPopulated(value, self)\n",
    "\n",
    "    def remove(self, value):\n",
    "        return self\n",
    "\n",
    "    def smallest(self):\n",
    "        raise ValueError(\"List is empty\")\n",
    "\n",
    "    def sortSimple(self) -> \"LinkedList\":\n",
    "        return self\n",
    "\n",
    "    def sortMerge(self) -> \"LinkedList\":\n",
    "        return self\n",
    "\n",
    "    def uniq(self):\n",
    "        return 0\n",
    "\n",
    "    def _uniq_helper(self, prev) -> int:\n",
    "        return 0\n",
    "\n",
    "    def subList(self, start: int, end: int, index: int = 0) -> \"LinkedList\":\n",
    "        return self\n",
    "\n",
    "    def merge(self, other: \"LinkedList\") -> \"LinkedList\":\n",
    "        return other\n",
    "\n",
    "\n",
    "class LinkedListPopulated(LinkedList):\n",
    "    def __init__(self, value, next_node: LinkedList):\n",
    "        self.value = value\n",
    "        self.next = next_node\n",
    "\n",
    "    def toString(self) -> str:\n",
    "        return str(self.value) + \" \" + self.next.toString()\n",
    "\n",
    "    def length(self) -> int:\n",
    "        return 1 + self.next.length()\n",
    "\n",
    "    def addFirst(self, value):\n",
    "        return LinkedListPopulated(value, self)\n",
    "\n",
    "    def remove(self, value):\n",
    "        if self.value == value:\n",
    "            return self.next\n",
    "        return LinkedListPopulated(self.value, self.next.remove(value))\n",
    "\n",
    "    def smallest(self):\n",
    "        try:\n",
    "            rest_smallest = self.next.smallest()\n",
    "            return self.value if self.value < rest_smallest else rest_smallest\n",
    "        except ValueError:\n",
    "            return self.value\n",
    "\n",
    "    def sortSimple(self) -> \"LinkedList\":\n",
    "        try:\n",
    "            smallest = self.smallest()\n",
    "            new_list = self.remove(smallest)\n",
    "            return LinkedListPopulated(smallest, new_list.sortSimple())\n",
    "        except ValueError:\n",
    "            return LinkedListEmpty()\n",
    "\n",
    "    def sortMerge(self) -> \"LinkedList\":\n",
    "        n = self.length()\n",
    "        if n <= 1:\n",
    "            return self\n",
    "\n",
    "        mid = n // 2\n",
    "        left = self.subList(0, mid)\n",
    "        right = self.subList(mid, n)\n",
    "\n",
    "        sorted_left = left.sortMerge()\n",
    "        sorted_right = right.sortMerge()\n",
    "\n",
    "        return sorted_left.merge(sorted_right)\n",
    "\n",
    "    def uniq(self):\n",
    "        return self._uniq_helper(None)\n",
    "\n",
    "    def _uniq_helper(self, prev):\n",
    "        if self.value == prev:\n",
    "            return self.next._uniq_helper(self.value)\n",
    "        else:\n",
    "            return 1 + self.next._uniq_helper(self.value)\n",
    "\n",
    "    def subList(self, start: int, end: int, index: int = 0) -> \"LinkedList\":\n",
    "        if index >= end:\n",
    "            return LinkedListEmpty()\n",
    "\n",
    "        rest = self.next.subList(start, end, index + 1)\n",
    "\n",
    "        if index >= start:\n",
    "            return rest.addFirst(self.value)\n",
    "        else:\n",
    "            return rest\n",
    "\n",
    "    def merge(self, other: \"LinkedList\") -> \"LinkedList\":\n",
    "        if isinstance(other, LinkedListEmpty):\n",
    "            return self\n",
    "\n",
    "        if self.value <= other.value:\n",
    "            return LinkedListPopulated(self.value, self.next.merge(other))\n",
    "        else:\n",
    "            return LinkedListPopulated(other.value, self.merge(other.next))"
   ]
  },
  {
   "cell_type": "markdown",
   "id": "4d33c844",
   "metadata": {},
   "source": [
    "De sublist() functie neemt een index en loopt door de lijst tot het einde gevonden is. Het slechtse geval is dus O(n)."
   ]
  },
  {
   "cell_type": "code",
   "execution_count": 14,
   "id": "a342f24f",
   "metadata": {},
   "outputs": [
    {
     "name": "stdout",
     "output_type": "stream",
     "text": [
      "4 7 \n"
     ]
    }
   ],
   "source": [
    "lst = LinkedListEmpty()\n",
    "for v in reversed([5, 4, 7, 4]):\n",
    "    lst = lst.addFirst(v)\n",
    "\n",
    "subl = lst.subList(1, 3)\n",
    "print(subl.toString())"
   ]
  },
  {
   "cell_type": "markdown",
   "id": "f3c68b06",
   "metadata": {},
   "source": [
    "De tijdcomplexiteit van merge() is O(n + m) waarbij n = lengte van self en m = lengte van other"
   ]
  },
  {
   "cell_type": "code",
   "execution_count": 15,
   "id": "558a7e24",
   "metadata": {},
   "outputs": [
    {
     "name": "stdout",
     "output_type": "stream",
     "text": [
      "2 4 4 5 6 7 7 \n"
     ]
    }
   ],
   "source": [
    "a = LinkedListEmpty()\n",
    "for v in reversed([4, 4, 5, 7]):\n",
    "    a = a.addFirst(v)\n",
    "\n",
    "b = LinkedListEmpty()\n",
    "for v in reversed([2, 6, 7]):\n",
    "    b = b.addFirst(v)\n",
    "\n",
    "merged = a.merge(b)\n",
    "print(merged.toString())  # Verwacht: 2 4 4 5 6 7 7"
   ]
  },
  {
   "cell_type": "markdown",
   "id": "bdbe2331",
   "metadata": {},
   "source": [
    "De tijdcomplexiteit van merge_sort() is O(n log n) omdat de lijst steeds in tweeën wordt gesplitst en daarna weer samengevoegd."
   ]
  },
  {
   "cell_type": "code",
   "execution_count": 16,
   "id": "fd42491e",
   "metadata": {},
   "outputs": [
    {
     "name": "stdout",
     "output_type": "stream",
     "text": [
      "4 4 5 7 \n"
     ]
    }
   ],
   "source": [
    "lst = LinkedListEmpty()\n",
    "for v in reversed([5, 4, 7, 4]):\n",
    "    lst = lst.addFirst(v)\n",
    "\n",
    "sorted_lst = lst.sortMerge()\n",
    "print(sorted_lst.toString())  # Verwacht: 4 4 5 7"
   ]
  },
  {
   "cell_type": "code",
   "execution_count": 17,
   "id": "f917466e",
   "metadata": {},
   "outputs": [
    {
     "name": "stderr",
     "output_type": "stream",
     "text": [
      "Exception ignored in: <bound method IPythonKernel._clean_thread_parent_frames of <ipykernel.ipkernel.IPythonKernel object at 0x106efa0c0>>\n",
      "Traceback (most recent call last):\n",
      "  File \"/Users/stanrunge/dev/deds/venv/lib/python3.12/site-packages/ipykernel/ipkernel.py\", line 790, in _clean_thread_parent_frames\n",
      "    active_threads = {thread.ident for thread in threading.enumerate()}\n",
      "                      ^^^^^^^^^^^^\n",
      "KeyboardInterrupt: \n"
     ]
    },
    {
     "name": "stdout",
     "output_type": "stream",
     "text": [
      "Unique kentekens: 14887482\n"
     ]
    }
   ],
   "source": [
    "import csv\n",
    "import sys\n",
    "\n",
    "sys.setrecursionlimit(20000000)\n",
    "\n",
    "kentekens = LinkedListEmpty()\n",
    "\n",
    "with open(\"./rdw_kentekens.csv\") as f:\n",
    "    reader = csv.reader(f, delimiter=\",\")\n",
    "    for row in reader:\n",
    "        kentekens = kentekens.addFirst(row[0])\n",
    "\n",
    "sorted_kentekens = kentekens.sortMerge()\n",
    "print(\"Unique kentekens:\", sorted_kentekens.uniq())"
   ]
  }
 ],
 "metadata": {
  "kernelspec": {
   "display_name": "venv",
   "language": "python",
   "name": "python3"
  },
  "language_info": {
   "codemirror_mode": {
    "name": "ipython",
    "version": 3
   },
   "file_extension": ".py",
   "mimetype": "text/x-python",
   "name": "python",
   "nbconvert_exporter": "python",
   "pygments_lexer": "ipython3",
   "version": "3.12.0"
  }
 },
 "nbformat": 4,
 "nbformat_minor": 5
}
