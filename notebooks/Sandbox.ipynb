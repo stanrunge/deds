{
 "cells": [
  {
   "cell_type": "markdown",
   "id": "462909f1-ced7-44ae-afbe-b56d0f0f1fb4",
   "metadata": {},
   "source": [
    "# List Comprehensions"
   ]
  },
  {
   "cell_type": "code",
   "execution_count": 1,
   "id": "58eeb4bf-6a39-4ae5-9fcf-c6537f96bdc2",
   "metadata": {},
   "outputs": [
    {
     "data": {
      "text/plain": [
       "[1, 2, 3, 4]"
      ]
     },
     "execution_count": 1,
     "metadata": {},
     "output_type": "execute_result"
    }
   ],
   "source": [
    "data = [1,2,3,4,5,6]\n",
    "\n",
    "compr = [num for num in data if num < 5]\n",
    "compr"
   ]
  },
  {
   "cell_type": "code",
   "execution_count": null,
   "id": "1aa4cd5e-bc23-43e7-b6c5-89a4f47f94f3",
   "metadata": {},
   "outputs": [],
   "source": []
  }
 ],
 "metadata": {
  "kernelspec": {
   "display_name": "Python 3 (ipykernel)",
   "language": "python",
   "name": "python3"
  },
  "language_info": {
   "codemirror_mode": {
    "name": "ipython",
    "version": 3
   },
   "file_extension": ".py",
   "mimetype": "text/x-python",
   "name": "python",
   "nbconvert_exporter": "python",
   "pygments_lexer": "ipython3",
   "version": "3.13.2"
  }
 },
 "nbformat": 4,
 "nbformat_minor": 5
}
