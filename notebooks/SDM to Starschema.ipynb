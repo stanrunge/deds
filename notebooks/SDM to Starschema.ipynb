{
 "cells": [
  {
   "cell_type": "markdown",
   "id": "e0d1f818-78b0-4760-87f1-c3b7d63548d0",
   "metadata": {},
   "source": [
    "# 3.2: ETL"
   ]
  },
  {
   "cell_type": "code",
   "execution_count": 2,
   "id": "93adff8c-e802-4551-b386-585abb5aeca5",
   "metadata": {
    "editable": true,
    "slideshow": {
     "slide_type": ""
    },
    "tags": []
   },
   "outputs": [
    {
     "name": "stdout",
     "output_type": "stream",
     "text": [
      "Connected to MSSQL successfully!\n"
     ]
    }
   ],
   "source": [
    "import pyodbc\n",
    "import sqlite3\n",
    "import pandas as pd\n",
    "import sqlalchemy as sa\n",
    "\n",
    "connection_url = sa.engine.URL.create(\n",
    "    'mssql+pyodbc',\n",
    "    username='SA',\n",
    "    password='MyPass@word',\n",
    "    host='127.0.0.1',\n",
    "    database='deds',\n",
    "    query={\"driver\": \"ODBC Driver 17 for SQL Server\", \"Encrypt\": \"no\"}\n",
    ")\n",
    "\n",
    "try:\n",
    "    engine = sa.create_engine(connection_url)\n",
    "    with engine.connect() as conn:\n",
    "        print(\"Connected to MSSQL successfully!\")\n",
    "except Exception as e:\n",
    "    print(f\"Failed to connect to MSSQL: {e}\")"
   ]
  },
  {
   "cell_type": "markdown",
   "id": "ad3b2640-6e61-4fbe-9995-031024bbdbaf",
   "metadata": {
    "editable": true,
    "slideshow": {
     "slide_type": ""
    },
    "tags": []
   },
   "source": [
    "## Clear Data"
   ]
  },
  {
   "cell_type": "code",
   "execution_count": 3,
   "id": "f4d5ff07-fb4e-4785-820a-74edba2e3593",
   "metadata": {},
   "outputs": [
    {
     "name": "stdout",
     "output_type": "stream",
     "text": [
      "Cleared Data\n"
     ]
    }
   ],
   "source": [
    "from sqlalchemy import text\n",
    "from sqlalchemy.orm import sessionmaker\n",
    "import sqlalchemy as sa\n",
    "\n",
    "Session = sessionmaker(bind=engine)\n",
    "session = Session()\n",
    "\n",
    "# Step 2: Disable foreign key constraints (SQL Server-specific)\n",
    "session.execute(text(\"EXEC sp_MSforeachtable 'ALTER TABLE ? NOCHECK CONSTRAINT ALL'\"))\n",
    "session.commit()\n",
    "\n",
    "# Step 3: Delete all data from all tables\n",
    "meta = sa.MetaData()\n",
    "meta.reflect(bind=engine)  # Load table information\n",
    "\n",
    "with session.begin():  # Ensures transaction safety\n",
    "    for table in reversed(meta.sorted_tables):  # Drop data respecting dependencies\n",
    "        session.execute(table.delete())  # `DELETE FROM table`\n",
    "\n",
    "# Step 4: Re-enable foreign key constraints\n",
    "session.execute(text(\"EXEC sp_MSforeachtable 'ALTER TABLE ? CHECK CONSTRAINT ALL'\"))\n",
    "session.commit()\n",
    "\n",
    "# Close session\n",
    "session.close()\n",
    "\n",
    "print(\"Cleared Data\")"
   ]
  },
  {
   "cell_type": "markdown",
   "id": "9335debe-30dd-4f9d-9d2f-c62a25cfaac9",
   "metadata": {},
   "source": [
    "## Fill Data"
   ]
  },
  {
   "cell_type": "code",
   "execution_count": null,
   "id": "b695d82e-bebd-41df-9bf3-eecddec9f78f",
   "metadata": {},
   "outputs": [],
   "source": []
  }
 ],
 "metadata": {
  "kernelspec": {
   "display_name": "Python 3 (ipykernel)",
   "language": "python",
   "name": "python3"
  },
  "language_info": {
   "codemirror_mode": {
    "name": "ipython",
    "version": 3
   },
   "file_extension": ".py",
   "mimetype": "text/x-python",
   "name": "python",
   "nbconvert_exporter": "python",
   "pygments_lexer": "ipython3",
   "version": "3.13.2"
  }
 },
 "nbformat": 4,
 "nbformat_minor": 5
}
