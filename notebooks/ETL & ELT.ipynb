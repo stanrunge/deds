{
 "cells": [
  {
   "cell_type": "markdown",
   "id": "e0d1f818-78b0-4760-87f1-c3b7d63548d0",
   "metadata": {},
   "source": [
    "# 2.3: ETL\n",
    "Deze notebook kan 2 dingen doen:\n",
    "1. Alle data in de data warehouse schoonmaken\n",
    "2. Alle data vanuit de 3 sqlite DB's en de 2 CSV-bestanden vullen in de DW"
   ]
  },
  {
   "cell_type": "code",
   "execution_count": 35,
   "id": "93adff8c-e802-4551-b386-585abb5aeca5",
   "metadata": {
    "editable": true,
    "slideshow": {
     "slide_type": ""
    },
    "tags": []
   },
   "outputs": [
    {
     "name": "stdout",
     "output_type": "stream",
     "text": [
      "Connected successfully!\n"
     ]
    }
   ],
   "source": [
    "import pyodbc\n",
    "import sqlite3\n",
    "import pandas as pd\n",
    "import sqlalchemy as sa\n",
    "\n",
    "connection_url = sa.engine.URL.create(\n",
    "    'mssql+pyodbc',\n",
    "    username='SA',\n",
    "    password='MyPass@word',\n",
    "    host='127.0.0.1',\n",
    "    database='deds',\n",
    "    query={\"driver\": \"ODBC Driver 17 for SQL Server\", \"Encrypt\": \"no\"}\n",
    ")\n",
    "\n",
    "engine = sa.create_engine(connection_url)\n",
    "\n",
    "conn = engine.connect()\n",
    "print(\"Connected successfully!\")\n",
    "conn.close()"
   ]
  },
  {
   "cell_type": "markdown",
   "id": "ad3b2640-6e61-4fbe-9995-031024bbdbaf",
   "metadata": {
    "editable": true,
    "slideshow": {
     "slide_type": ""
    },
    "tags": []
   },
   "source": [
    "## Clear Data"
   ]
  },
  {
   "cell_type": "code",
   "execution_count": 40,
   "id": "f4d5ff07-fb4e-4785-820a-74edba2e3593",
   "metadata": {},
   "outputs": [],
   "source": [
    "from sqlalchemy import text\n",
    "from sqlalchemy.orm import sessionmaker\n",
    "import sqlalchemy as sa\n",
    "\n",
    "Session = sessionmaker(bind=engine)\n",
    "session = Session()\n",
    "\n",
    "# Step 2: Disable foreign key constraints (SQL Server-specific)\n",
    "session.execute(text(\"EXEC sp_MSforeachtable 'ALTER TABLE ? NOCHECK CONSTRAINT ALL'\"))\n",
    "session.commit()\n",
    "\n",
    "# Step 3: Delete all data from all tables\n",
    "meta = sa.MetaData()\n",
    "meta.reflect(bind=engine)  # Load table information\n",
    "\n",
    "with session.begin():  # Ensures transaction safety\n",
    "    for table in reversed(meta.sorted_tables):  # Drop data respecting dependencies\n",
    "        session.execute(table.delete())  # `DELETE FROM table`\n",
    "\n",
    "# Step 4: Re-enable foreign key constraints\n",
    "session.execute(text(\"EXEC sp_MSforeachtable 'ALTER TABLE ? CHECK CONSTRAINT ALL'\"))\n",
    "session.commit()\n",
    "\n",
    "# Close session\n",
    "session.close()"
   ]
  },
  {
   "cell_type": "markdown",
   "id": "9335debe-30dd-4f9d-9d2f-c62a25cfaac9",
   "metadata": {},
   "source": [
    "## Fill Data"
   ]
  },
  {
   "cell_type": "markdown",
   "id": "fcc5482e-66dc-4a85-9c4f-5039724d0154",
   "metadata": {},
   "source": [
    "### CRM"
   ]
  },
  {
   "cell_type": "code",
   "execution_count": 41,
   "id": "938505ef-f91a-43aa-b065-bb40921068a7",
   "metadata": {},
   "outputs": [
    {
     "data": {
      "text/html": [
       "<div>\n",
       "<style scoped>\n",
       "    .dataframe tbody tr th:only-of-type {\n",
       "        vertical-align: middle;\n",
       "    }\n",
       "\n",
       "    .dataframe tbody tr th {\n",
       "        vertical-align: top;\n",
       "    }\n",
       "\n",
       "    .dataframe thead th {\n",
       "        text-align: right;\n",
       "    }\n",
       "</style>\n",
       "<table border=\"1\" class=\"dataframe\">\n",
       "  <thead>\n",
       "    <tr style=\"text-align: right;\">\n",
       "      <th></th>\n",
       "      <th>RETAILER_CODEMR</th>\n",
       "      <th>RETAILER_NAME</th>\n",
       "      <th>ADDRESS1</th>\n",
       "      <th>ADDRESS2</th>\n",
       "      <th>CITY</th>\n",
       "      <th>REGION</th>\n",
       "      <th>POSTAL_ZONE</th>\n",
       "      <th>COUNTRY_CODE</th>\n",
       "      <th>PHONE</th>\n",
       "      <th>FAX</th>\n",
       "      <th>SEGMENT_CODE</th>\n",
       "    </tr>\n",
       "  </thead>\n",
       "  <tbody>\n",
       "    <tr>\n",
       "      <th>0</th>\n",
       "      <td>1</td>\n",
       "      <td>Rock Steady</td>\n",
       "      <td>45, rue Atwater</td>\n",
       "      <td>None</td>\n",
       "      <td>Montréal</td>\n",
       "      <td>Québec</td>\n",
       "      <td>H2T 9K8</td>\n",
       "      <td>4</td>\n",
       "      <td>1 (514) 747-4481</td>\n",
       "      <td>1 (514) 741-2277</td>\n",
       "      <td>2</td>\n",
       "    </tr>\n",
       "  </tbody>\n",
       "</table>\n",
       "</div>"
      ],
      "text/plain": [
       "   RETAILER_CODEMR RETAILER_NAME         ADDRESS1 ADDRESS2      CITY  REGION  \\\n",
       "0                1   Rock Steady  45, rue Atwater     None  Montréal  Québec   \n",
       "\n",
       "  POSTAL_ZONE  COUNTRY_CODE             PHONE               FAX  SEGMENT_CODE  \n",
       "0     H2T 9K8             4  1 (514) 747-4481  1 (514) 741-2277             2  "
      ]
     },
     "execution_count": 41,
     "metadata": {},
     "output_type": "execute_result"
    }
   ],
   "source": [
    "conn = sqlite3.connect(\"../data/go_crm_train.sqlite\")\n",
    "\n",
    "age_group = pd.read_sql_query('SELECT * FROM age_group', conn)\n",
    "age_group.to_sql('age_group', engine, if_exists='append', index=False)\n",
    "\n",
    "sales_territory = pd.read_sql_query('SELECT * FROM sales_territory', conn)\n",
    "sales_territory.to_sql('sales_territory', engine, if_exists='append', index=False)\n",
    "\n",
    "country = pd.read_sql_query('SELECT * FROM country', conn)\n",
    "country['LANGUAGE'] = 'EN'\n",
    "country['CURRENCY_NAME'] = 'temp'\n",
    "country.to_sql('country', engine, if_exists='append', index=False)\n",
    "\n",
    "retailer_segment = pd.read_sql_query('SELECT * FROM retailer_segment', conn)\n",
    "retailer_segment.to_sql('retailer_segment', engine, if_exists='append', index=False)\n",
    "\n",
    "retailer_headquarters = pd.read_sql_query('SELECT * FROM retailer_headquarters', conn)\n",
    "retailer_headquarters[:1]\n",
    "\n",
    "# .to_sql('retailer_headquarters', engine, if_exists='append', index=False)\n",
    "\n",
    "# retailer_type = pd.read_sql_query('SELECT * FROM retailer_type', conn)\n",
    "# retailer_type.to_sql('retailer_type', engine, if_exists='append', index=False)\n",
    "\n",
    "# retailer = pd.read_sql_query('SELECT * FROM retailer', conn)\n",
    "# retailer.to_sql('retailer', engine, if_exists='append', index=False)\n",
    "\n",
    "# retailer_contact = pd.read_sql_query('SELECT * FROM retailer_contact', conn)\n",
    "# retailer_contact.to_sql('retailer_contact', engine, if_exists='append', index=False)\n",
    "\n",
    "# retailer_site = pd.read_sql_query('SELECT * FROM retailer_site', conn)\n",
    "# retailer_site.to_sql('retailer_site', engine, if_exists='append', index=False)\n",
    "\n",
    "# sales_demographic = pd.read_sql_query('SELECT * FROM sales_demographic', conn)\n",
    "# sales_demographic.to_sql('sales_demographic', engine, if_exists='append', index=False)"
   ]
  },
  {
   "cell_type": "markdown",
   "id": "890d9597-43cf-4a0b-846d-cf1189fcd9fb",
   "metadata": {},
   "source": [
    "### Sales"
   ]
  },
  {
   "cell_type": "code",
   "execution_count": 25,
   "id": "b0021cf9-429a-48d9-9b1b-db38a712cfdd",
   "metadata": {},
   "outputs": [
    {
     "data": {
      "text/html": [
       "<div>\n",
       "<style scoped>\n",
       "    .dataframe tbody tr th:only-of-type {\n",
       "        vertical-align: middle;\n",
       "    }\n",
       "\n",
       "    .dataframe tbody tr th {\n",
       "        vertical-align: top;\n",
       "    }\n",
       "\n",
       "    .dataframe thead th {\n",
       "        text-align: right;\n",
       "    }\n",
       "</style>\n",
       "<table border=\"1\" class=\"dataframe\">\n",
       "  <thead>\n",
       "    <tr style=\"text-align: right;\">\n",
       "      <th></th>\n",
       "      <th>PRODUCT_NUMBER</th>\n",
       "      <th>INTRODUCTION_DATE</th>\n",
       "      <th>PRODUCT_TYPE_CODE</th>\n",
       "      <th>PRODUCTION_COST</th>\n",
       "      <th>MARGIN</th>\n",
       "      <th>PRODUCT_IMAGE</th>\n",
       "      <th>LANGUAGE</th>\n",
       "      <th>PRODUCT_NAME</th>\n",
       "      <th>DESCRIPTION</th>\n",
       "    </tr>\n",
       "  </thead>\n",
       "  <tbody>\n",
       "    <tr>\n",
       "      <th>0</th>\n",
       "      <td>1</td>\n",
       "      <td>1995-02-15</td>\n",
       "      <td>1</td>\n",
       "      <td>4.00</td>\n",
       "      <td>0.33</td>\n",
       "      <td>P01CE1CG1.jpg</td>\n",
       "      <td>EN</td>\n",
       "      <td>TrailChef Water Bag</td>\n",
       "      <td>Lightweight, collapsible bag to carry liquids ...</td>\n",
       "    </tr>\n",
       "    <tr>\n",
       "      <th>1</th>\n",
       "      <td>2</td>\n",
       "      <td>1995-02-15</td>\n",
       "      <td>1</td>\n",
       "      <td>9.22</td>\n",
       "      <td>0.23</td>\n",
       "      <td>P02CE1CG1.jpg</td>\n",
       "      <td>EN</td>\n",
       "      <td>TrailChef Canteen</td>\n",
       "      <td>Aluminum canteen. Rugged fleece-lined cover wi...</td>\n",
       "    </tr>\n",
       "    <tr>\n",
       "      <th>2</th>\n",
       "      <td>3</td>\n",
       "      <td>1995-02-15</td>\n",
       "      <td>1</td>\n",
       "      <td>15.93</td>\n",
       "      <td>0.28</td>\n",
       "      <td>P03CE1CG1.jpg</td>\n",
       "      <td>EN</td>\n",
       "      <td>TrailChef Kitchen Kit</td>\n",
       "      <td>Zippered nylon pouch contains cutlery for two,...</td>\n",
       "    </tr>\n",
       "    <tr>\n",
       "      <th>3</th>\n",
       "      <td>4</td>\n",
       "      <td>1995-02-15</td>\n",
       "      <td>1</td>\n",
       "      <td>5.00</td>\n",
       "      <td>0.28</td>\n",
       "      <td>P04CE1CG1.jpg</td>\n",
       "      <td>EN</td>\n",
       "      <td>TrailChef Cup</td>\n",
       "      <td>Tin cup. Holds 0.4 liters. Weight: 60 g</td>\n",
       "    </tr>\n",
       "    <tr>\n",
       "      <th>4</th>\n",
       "      <td>5</td>\n",
       "      <td>1995-02-15</td>\n",
       "      <td>1</td>\n",
       "      <td>34.97</td>\n",
       "      <td>0.30</td>\n",
       "      <td>P05CE1CG1.jpg</td>\n",
       "      <td>EN</td>\n",
       "      <td>TrailChef Cook Set</td>\n",
       "      <td>All you will ever need on the trail.  Pot grip...</td>\n",
       "    </tr>\n",
       "  </tbody>\n",
       "</table>\n",
       "</div>"
      ],
      "text/plain": [
       "   PRODUCT_NUMBER INTRODUCTION_DATE  PRODUCT_TYPE_CODE  PRODUCTION_COST  \\\n",
       "0               1        1995-02-15                  1             4.00   \n",
       "1               2        1995-02-15                  1             9.22   \n",
       "2               3        1995-02-15                  1            15.93   \n",
       "3               4        1995-02-15                  1             5.00   \n",
       "4               5        1995-02-15                  1            34.97   \n",
       "\n",
       "   MARGIN  PRODUCT_IMAGE LANGUAGE           PRODUCT_NAME  \\\n",
       "0    0.33  P01CE1CG1.jpg       EN    TrailChef Water Bag   \n",
       "1    0.23  P02CE1CG1.jpg       EN      TrailChef Canteen   \n",
       "2    0.28  P03CE1CG1.jpg       EN  TrailChef Kitchen Kit   \n",
       "3    0.28  P04CE1CG1.jpg       EN          TrailChef Cup   \n",
       "4    0.30  P05CE1CG1.jpg       EN     TrailChef Cook Set   \n",
       "\n",
       "                                         DESCRIPTION  \n",
       "0  Lightweight, collapsible bag to carry liquids ...  \n",
       "1  Aluminum canteen. Rugged fleece-lined cover wi...  \n",
       "2  Zippered nylon pouch contains cutlery for two,...  \n",
       "3            Tin cup. Holds 0.4 liters. Weight: 60 g  \n",
       "4  All you will ever need on the trail.  Pot grip...  "
      ]
     },
     "execution_count": 25,
     "metadata": {},
     "output_type": "execute_result"
    }
   ],
   "source": [
    "conn = sqlite3.connect(\"../data/go_sales_train.sqlite\")\n",
    "\n",
    "product = pd.read_sql_query('SELECT * FROM product', conn)\n",
    "\n"
   ]
  },
  {
   "cell_type": "markdown",
   "id": "5bd2d23d-de17-48db-9478-d40764307f4b",
   "metadata": {},
   "source": [
    "### Staff"
   ]
  },
  {
   "cell_type": "code",
   "execution_count": null,
   "id": "4c3d2cdd-1447-431e-85b2-22e3aee103d6",
   "metadata": {},
   "outputs": [],
   "source": [
    "conn = sqlite3.connect(\"../data/go_staff_train.sqlite\")\n",
    "\n"
   ]
  },
  {
   "cell_type": "markdown",
   "id": "689a2bba-7f5a-411a-980b-7780b30cc274",
   "metadata": {},
   "source": [
    "### Product Forecast"
   ]
  },
  {
   "cell_type": "code",
   "execution_count": null,
   "id": "10a984b7-3b40-4365-8e80-84d31455cd50",
   "metadata": {},
   "outputs": [],
   "source": []
  },
  {
   "cell_type": "markdown",
   "id": "9dea3f47-a47e-4671-9608-6580e46ebe85",
   "metadata": {},
   "source": [
    "### Inventory Levels"
   ]
  },
  {
   "cell_type": "code",
   "execution_count": null,
   "id": "ee1f87b3-9a95-4673-a749-ab70959ace81",
   "metadata": {},
   "outputs": [],
   "source": []
  }
 ],
 "metadata": {
  "kernelspec": {
   "display_name": "Python 3 (ipykernel)",
   "language": "python",
   "name": "python3"
  },
  "language_info": {
   "codemirror_mode": {
    "name": "ipython",
    "version": 3
   },
   "file_extension": ".py",
   "mimetype": "text/x-python",
   "name": "python",
   "nbconvert_exporter": "python",
   "pygments_lexer": "ipython3",
   "version": "3.13.2"
  }
 },
 "nbformat": 4,
 "nbformat_minor": 5
}
