{
 "cells": [
  {
   "cell_type": "markdown",
   "id": "e0d1f818-78b0-4760-87f1-c3b7d63548d0",
   "metadata": {},
   "source": [
    "# 2.3: ETL\n",
    "Deze notebook kan 2 dingen doen:\n",
    "1. Alle data in de data warehouse schoonmaken\n",
    "2. Alle data vanuit de 3 sqlite DB's en de 2 CSV-bestanden vullen in de DW"
   ]
  },
  {
   "cell_type": "code",
   "execution_count": 37,
   "id": "93adff8c-e802-4551-b386-585abb5aeca5",
   "metadata": {
    "editable": true,
    "slideshow": {
     "slide_type": ""
    },
    "tags": []
   },
   "outputs": [
    {
     "name": "stdout",
     "output_type": "stream",
     "text": [
      "Connected to MSSQL successfully!\n",
      "Connected to SQLite databases successfully!\n"
     ]
    }
   ],
   "source": [
    "import pyodbc\n",
    "import sqlite3\n",
    "import pandas as pd\n",
    "import sqlalchemy as sa\n",
    "\n",
    "connection_url = sa.engine.URL.create(\n",
    "    'mssql+pyodbc',\n",
    "    username='SA',\n",
    "    password='MyPass@word',\n",
    "    host='127.0.0.1',\n",
    "    database='deds',\n",
    "    query={\"driver\": \"ODBC Driver 17 for SQL Server\", \"Encrypt\": \"no\"}\n",
    ")\n",
    "\n",
    "try:\n",
    "    engine = sa.create_engine(connection_url)\n",
    "    with engine.connect() as conn:\n",
    "        print(\"Connected to MSSQL successfully!\")\n",
    "except Exception as e:\n",
    "    print(f\"Failed to connect to MSSQL: {e}\")\n",
    "\n",
    "try:\n",
    "    crm_conn = sqlite3.connect(\"../data/go_crm_volledig.sqlite\")\n",
    "    sales_conn = sqlite3.connect(\"../data/go_sales_volledig.sqlite\")\n",
    "    staff_conn = sqlite3.connect(\"../data/go_staff_volledig.sqlite\")\n",
    "    print(\"Connected to SQLite databases successfully!\")\n",
    "except Exception as e:\n",
    "    print(f\"Failed to connect to SQLite: {e}\")"
   ]
  },
  {
   "cell_type": "markdown",
   "id": "ad3b2640-6e61-4fbe-9995-031024bbdbaf",
   "metadata": {
    "editable": true,
    "slideshow": {
     "slide_type": ""
    },
    "tags": []
   },
   "source": [
    "## Clear Data"
   ]
  },
  {
   "cell_type": "code",
   "execution_count": 3,
   "id": "f4d5ff07-fb4e-4785-820a-74edba2e3593",
   "metadata": {},
   "outputs": [
    {
     "name": "stdout",
     "output_type": "stream",
     "text": [
      "Cleared Data\n"
     ]
    }
   ],
   "source": [
    "from sqlalchemy import text\n",
    "from sqlalchemy.orm import sessionmaker\n",
    "import sqlalchemy as sa\n",
    "\n",
    "Session = sessionmaker(bind=engine)\n",
    "session = Session()\n",
    "\n",
    "# Step 2: Disable foreign key constraints (SQL Server-specific)\n",
    "session.execute(text(\"EXEC sp_MSforeachtable 'ALTER TABLE ? NOCHECK CONSTRAINT ALL'\"))\n",
    "session.commit()\n",
    "\n",
    "# Step 3: Delete all data from all tables\n",
    "meta = sa.MetaData()\n",
    "meta.reflect(bind=engine)  # Load table information\n",
    "\n",
    "with session.begin():  # Ensures transaction safety\n",
    "    for table in reversed(meta.sorted_tables):  # Drop data respecting dependencies\n",
    "        session.execute(table.delete())  # `DELETE FROM table`\n",
    "\n",
    "# Step 4: Re-enable foreign key constraints\n",
    "session.execute(text(\"EXEC sp_MSforeachtable 'ALTER TABLE ? CHECK CONSTRAINT ALL'\"))\n",
    "session.commit()\n",
    "\n",
    "# Close session\n",
    "session.close()\n",
    "\n",
    "print(\"Cleared Data\")"
   ]
  },
  {
   "cell_type": "markdown",
   "id": "9335debe-30dd-4f9d-9d2f-c62a25cfaac9",
   "metadata": {},
   "source": [
    "## Fill Data"
   ]
  },
  {
   "cell_type": "markdown",
   "id": "0637b015-81ff-4c91-b02e-9cbb56286a45",
   "metadata": {},
   "source": [
    "### Age Group\n",
    "From:\n",
    "- CRM"
   ]
  },
  {
   "cell_type": "code",
   "execution_count": 4,
   "id": "e47776de-9f27-4c66-9adc-a09a465514ef",
   "metadata": {},
   "outputs": [
    {
     "data": {
      "text/plain": [
       "6"
      ]
     },
     "execution_count": 4,
     "metadata": {},
     "output_type": "execute_result"
    }
   ],
   "source": [
    "age_group = pd.read_sql_query('SELECT * FROM age_group', crm_conn)\n",
    "age_group.to_sql('age_group', engine, if_exists='append', index=False)"
   ]
  },
  {
   "cell_type": "markdown",
   "id": "309a9f91-5bbd-499d-b4c1-afc04f6671c5",
   "metadata": {},
   "source": [
    "### Sales Territory\n",
    "From:\n",
    "- CRM"
   ]
  },
  {
   "cell_type": "code",
   "execution_count": 5,
   "id": "7f4b7385-648e-4e05-ba76-f3efba1aadd6",
   "metadata": {},
   "outputs": [
    {
     "data": {
      "text/plain": [
       "5"
      ]
     },
     "execution_count": 5,
     "metadata": {},
     "output_type": "execute_result"
    }
   ],
   "source": [
    "sales_territory = pd.read_sql_query('SELECT * FROM sales_territory', crm_conn)\n",
    "sales_territory.to_sql('sales_territory', engine, if_exists='append', index=False)"
   ]
  },
  {
   "cell_type": "markdown",
   "id": "33dbb849-65df-4f9c-8155-2d91433920e8",
   "metadata": {},
   "source": [
    "### Country\n",
    "From:\n",
    "- CRM\n",
    "- Sales\n",
    "\n",
    "Depends on:\n",
    "- Sales Territory"
   ]
  },
  {
   "cell_type": "code",
   "execution_count": 21,
   "id": "8b9c375a-32fa-47ea-9de9-f5ea917edf75",
   "metadata": {},
   "outputs": [
    {
     "data": {
      "text/html": [
       "<div>\n",
       "<style scoped>\n",
       "    .dataframe tbody tr th:only-of-type {\n",
       "        vertical-align: middle;\n",
       "    }\n",
       "\n",
       "    .dataframe tbody tr th {\n",
       "        vertical-align: top;\n",
       "    }\n",
       "\n",
       "    .dataframe thead th {\n",
       "        text-align: right;\n",
       "    }\n",
       "</style>\n",
       "<table border=\"1\" class=\"dataframe\">\n",
       "  <thead>\n",
       "    <tr style=\"text-align: right;\">\n",
       "      <th></th>\n",
       "      <th>COUNTRY_CODE</th>\n",
       "      <th>COUNTRY_EN</th>\n",
       "      <th>FLAG_IMAGE</th>\n",
       "      <th>SALES_TERRITORY_CODE</th>\n",
       "      <th>LANGUAGE</th>\n",
       "      <th>CURRENCY_NAME</th>\n",
       "    </tr>\n",
       "  </thead>\n",
       "  <tbody>\n",
       "    <tr>\n",
       "      <th>0</th>\n",
       "      <td>1</td>\n",
       "      <td>France</td>\n",
       "      <td>F01</td>\n",
       "      <td>6</td>\n",
       "      <td>EN</td>\n",
       "      <td>francs</td>\n",
       "    </tr>\n",
       "    <tr>\n",
       "      <th>1</th>\n",
       "      <td>2</td>\n",
       "      <td>Germany</td>\n",
       "      <td>F02</td>\n",
       "      <td>6</td>\n",
       "      <td>EN</td>\n",
       "      <td>marks</td>\n",
       "    </tr>\n",
       "    <tr>\n",
       "      <th>2</th>\n",
       "      <td>3</td>\n",
       "      <td>United States</td>\n",
       "      <td>F03</td>\n",
       "      <td>1</td>\n",
       "      <td>EN</td>\n",
       "      <td>dollars</td>\n",
       "    </tr>\n",
       "    <tr>\n",
       "      <th>3</th>\n",
       "      <td>4</td>\n",
       "      <td>Canada</td>\n",
       "      <td>F04</td>\n",
       "      <td>1</td>\n",
       "      <td>EN</td>\n",
       "      <td>dollars</td>\n",
       "    </tr>\n",
       "    <tr>\n",
       "      <th>4</th>\n",
       "      <td>5</td>\n",
       "      <td>Austria</td>\n",
       "      <td>F05</td>\n",
       "      <td>7</td>\n",
       "      <td>EN</td>\n",
       "      <td>schillings</td>\n",
       "    </tr>\n",
       "  </tbody>\n",
       "</table>\n",
       "</div>"
      ],
      "text/plain": [
       "   COUNTRY_CODE     COUNTRY_EN FLAG_IMAGE  SALES_TERRITORY_CODE LANGUAGE  \\\n",
       "0             1         France        F01                     6       EN   \n",
       "1             2        Germany        F02                     6       EN   \n",
       "2             3  United States        F03                     1       EN   \n",
       "3             4         Canada        F04                     1       EN   \n",
       "4             5        Austria        F05                     7       EN   \n",
       "\n",
       "  CURRENCY_NAME  \n",
       "0        francs  \n",
       "1         marks  \n",
       "2       dollars  \n",
       "3       dollars  \n",
       "4    schillings  "
      ]
     },
     "execution_count": 21,
     "metadata": {},
     "output_type": "execute_result"
    }
   ],
   "source": [
    "crm_country = pd.read_sql_query('SELECT * FROM country', crm_conn)\n",
    "\n",
    "sales_country = pd.read_sql_query('SELECT * FROM country', sales_conn)\n",
    "\n",
    "country = pd.merge(crm_country, sales_country, on=['COUNTRY_CODE'], how='inner')\n",
    "country = country.drop(columns=['COUNTRY'])\n",
    "\n",
    "country.to_sql('country', engine, if_exists='append', index=False)"
   ]
  },
  {
   "cell_type": "markdown",
   "id": "5b4f35e3-0e4b-4787-b225-1342923d6346",
   "metadata": {},
   "source": [
    "### Retailer Segment\n",
    "From:\n",
    "- CRM"
   ]
  },
  {
   "cell_type": "code",
   "execution_count": 7,
   "id": "8da1ed46-08f7-46ce-a5a2-cde75ea76720",
   "metadata": {},
   "outputs": [
    {
     "data": {
      "text/plain": [
       "12"
      ]
     },
     "execution_count": 7,
     "metadata": {},
     "output_type": "execute_result"
    }
   ],
   "source": [
    "retailer_segment = pd.read_sql_query('SELECT * FROM retailer_segment', crm_conn)\n",
    "retailer_segment.to_sql('retailer_segment', engine, if_exists='append', index=False)"
   ]
  },
  {
   "cell_type": "markdown",
   "id": "b4879556-ed20-4d27-89a8-526bddc05cbf",
   "metadata": {},
   "source": [
    "### Retailer Headquarters\n",
    "From:\n",
    "- CRM\n",
    "\n",
    "Depends on:\n",
    "- Retailer Segment"
   ]
  },
  {
   "cell_type": "code",
   "execution_count": 8,
   "id": "0f947260-10be-4119-a308-a8113698b291",
   "metadata": {},
   "outputs": [
    {
     "data": {
      "text/plain": [
       "205"
      ]
     },
     "execution_count": 8,
     "metadata": {},
     "output_type": "execute_result"
    }
   ],
   "source": [
    "retailer_headquarters = pd.read_sql_query('SELECT * FROM retailer_headquarters', crm_conn)\n",
    "retailer_headquarters.to_sql('retailer_headquarters', engine, if_exists='append', index=False)"
   ]
  },
  {
   "cell_type": "markdown",
   "id": "7201e4f5-a179-447f-ad0f-61d8548157a8",
   "metadata": {},
   "source": [
    "### Retailer Type\n",
    "From:\n",
    "- CRM"
   ]
  },
  {
   "cell_type": "code",
   "execution_count": 9,
   "id": "4383d2c4-dc50-4118-b8f7-3a1c2c6f8fb3",
   "metadata": {},
   "outputs": [
    {
     "data": {
      "text/plain": [
       "8"
      ]
     },
     "execution_count": 9,
     "metadata": {},
     "output_type": "execute_result"
    }
   ],
   "source": [
    "retailer_type = pd.read_sql_query('SELECT * FROM retailer_type', crm_conn)\n",
    "retailer_type.to_sql('retailer_type', engine, if_exists='append', index=False)"
   ]
  },
  {
   "cell_type": "markdown",
   "id": "ffdde9c3-ca89-4267-92a5-f1a08bc0c351",
   "metadata": {},
   "source": [
    "### Retailer\n",
    "From:\n",
    "- CRM\n",
    "\n",
    "Depends on:\n",
    "- Retailer Headquarters\n",
    "- Retailer Type"
   ]
  },
  {
   "cell_type": "code",
   "execution_count": 10,
   "id": "4ad95ed8-1995-4582-b72e-bbac344b15b1",
   "metadata": {},
   "outputs": [
    {
     "data": {
      "text/plain": [
       "109"
      ]
     },
     "execution_count": 10,
     "metadata": {},
     "output_type": "execute_result"
    }
   ],
   "source": [
    "retailer = pd.read_sql_query('SELECT * FROM retailer', crm_conn)\n",
    "retailer.to_sql('retailer', engine, if_exists='append', index=False)"
   ]
  },
  {
   "cell_type": "markdown",
   "id": "328f7eb0-d5fc-4495-95ba-0ded1b1722b3",
   "metadata": {},
   "source": [
    "### Retailer Site\n",
    "From:\n",
    "- CRM\n",
    "- Sales\n",
    "\n",
    "Depends on:\n",
    "- Retailer\n",
    "- Country"
   ]
  },
  {
   "cell_type": "code",
   "execution_count": 17,
   "id": "4d81a249-b5a5-413a-bbab-a6a3a4ae4f6d",
   "metadata": {},
   "outputs": [
    {
     "name": "stdout",
     "output_type": "stream",
     "text": [
      "<class 'pandas.core.frame.DataFrame'>\n",
      "RangeIndex: 391 entries, 0 to 390\n",
      "Data columns (total 8 columns):\n",
      " #   Column              Non-Null Count  Dtype \n",
      "---  ------              --------------  ----- \n",
      " 0   RETAILER_SITE_CODE  391 non-null    int64 \n",
      " 1   RETAILER_CODE       391 non-null    int64 \n",
      " 2   ADDRESS1            391 non-null    object\n",
      " 3   ADDRESS2            105 non-null    object\n",
      " 4   CITY                391 non-null    object\n",
      " 5   REGION              251 non-null    object\n",
      " 6   COUNTRY_CODE        391 non-null    int64 \n",
      " 7   ACTIVE_INDICATOR    391 non-null    int64 \n",
      "dtypes: int64(4), object(4)\n",
      "memory usage: 24.6+ KB\n"
     ]
    }
   ],
   "source": [
    "crm_retailer_site.info()"
   ]
  },
  {
   "cell_type": "code",
   "execution_count": 18,
   "id": "6d111ee3-774e-4f15-a033-00e9433729fd",
   "metadata": {},
   "outputs": [
    {
     "name": "stdout",
     "output_type": "stream",
     "text": [
      "<class 'pandas.core.frame.DataFrame'>\n",
      "RangeIndex: 391 entries, 0 to 390\n",
      "Data columns (total 8 columns):\n",
      " #   Column              Non-Null Count  Dtype \n",
      "---  ------              --------------  ----- \n",
      " 0   RETAILER_SITE_CODE  391 non-null    int64 \n",
      " 1   RETAILER_CODE       391 non-null    int64 \n",
      " 2   ADDRESS1            391 non-null    object\n",
      " 3   ADDRESS2            105 non-null    object\n",
      " 4   CITY                391 non-null    object\n",
      " 5   REGION              251 non-null    object\n",
      " 6   COUNTRY_CODE        391 non-null    int64 \n",
      " 7   ACTIVE_INDICATOR    391 non-null    int64 \n",
      "dtypes: int64(4), object(4)\n",
      "memory usage: 24.6+ KB\n"
     ]
    }
   ],
   "source": [
    "sales_retailer_site.info()"
   ]
  },
  {
   "cell_type": "code",
   "execution_count": 22,
   "id": "d2340f7a-1111-4342-a9d9-af73902d09b2",
   "metadata": {},
   "outputs": [
    {
     "name": "stdout",
     "output_type": "stream",
     "text": [
      "<class 'pandas.core.frame.DataFrame'>\n",
      "RangeIndex: 391 entries, 0 to 390\n",
      "Data columns (total 8 columns):\n",
      " #   Column              Non-Null Count  Dtype \n",
      "---  ------              --------------  ----- \n",
      " 0   RETAILER_SITE_CODE  391 non-null    int64 \n",
      " 1   RETAILER_CODE       391 non-null    int64 \n",
      " 2   ADDRESS1            391 non-null    object\n",
      " 3   ADDRESS2            105 non-null    object\n",
      " 4   CITY                391 non-null    object\n",
      " 5   REGION              251 non-null    object\n",
      " 6   COUNTRY_CODE        391 non-null    int64 \n",
      " 7   ACTIVE_INDICATOR    391 non-null    int64 \n",
      "dtypes: int64(4), object(4)\n",
      "memory usage: 24.6+ KB\n",
      "None\n"
     ]
    },
    {
     "data": {
      "text/plain": [
       "129"
      ]
     },
     "execution_count": 22,
     "metadata": {},
     "output_type": "execute_result"
    }
   ],
   "source": [
    "crm_retailer_site = pd.read_sql_query('SELECT * FROM retailer_site', crm_conn)\n",
    "\n",
    "sales_retailer_site = pd.read_sql_query('SELECT * FROM retailer_site', sales_conn)\n",
    "\n",
    "retailer_site = pd.merge(\n",
    "    crm_retailer_site, \n",
    "    sales_retailer_site, \n",
    "    on=['RETAILER_SITE_CODE'], \n",
    "    how='inner', \n",
    "    suffixes=('_crm', '_sales')\n",
    ")\n",
    "\n",
    "retailer_site = retailer_site.drop(columns=['RETAILER_CODE_sales', 'ADDRESS1_sales', 'ADDRESS2_sales', \n",
    "                   'CITY_sales', 'REGION_sales', 'COUNTRY_CODE_sales', 'ACTIVE_INDICATOR_sales'])\n",
    "\n",
    "retailer_site = retailer_site.rename(columns=lambda x: x.replace('_crm', ''))\n",
    "\n",
    "retailer_site.to_sql('retailer_site', engine, if_exists='append', index=False)"
   ]
  },
  {
   "cell_type": "markdown",
   "id": "1d5df2dd-891c-4b98-bc3c-9efcf1a5b89e",
   "metadata": {},
   "source": [
    "### Retailer Contact\n",
    "From:\n",
    "- CRM\n",
    "\n",
    "Depends on:\n",
    "- Retailer Site"
   ]
  },
  {
   "cell_type": "code",
   "execution_count": 23,
   "id": "8fab9399-a2a0-451c-84b7-4109ed459bbe",
   "metadata": {},
   "outputs": [
    {
     "data": {
      "text/plain": [
       "158"
      ]
     },
     "execution_count": 23,
     "metadata": {},
     "output_type": "execute_result"
    }
   ],
   "source": [
    "retailer_contact = pd.read_sql_query('SELECT * FROM retailer_contact', crm_conn)\n",
    "retailer_contact.to_sql('retailer_contact', engine, if_exists='append', index=False)"
   ]
  },
  {
   "cell_type": "markdown",
   "id": "24431c0a-923d-4bef-b9e1-fca6eb722d62",
   "metadata": {},
   "source": [
    "### Sales Demographic\n",
    "From:\n",
    "- CRM\n",
    "\n",
    "Depends on:\n",
    "- Retailer Headquarters\n",
    "- Age Group"
   ]
  },
  {
   "cell_type": "code",
   "execution_count": 24,
   "id": "b1b204f4-6c92-44fe-ad8e-7f35b84d8eb4",
   "metadata": {},
   "outputs": [
    {
     "data": {
      "text/plain": [
       "388"
      ]
     },
     "execution_count": 24,
     "metadata": {},
     "output_type": "execute_result"
    }
   ],
   "source": [
    "sales_demographic = pd.read_sql_query('SELECT * FROM sales_demographic', crm_conn)\n",
    "sales_demographic.to_sql('sales_demographic', engine, if_exists='append', index=False)"
   ]
  },
  {
   "cell_type": "markdown",
   "id": "5f9d9253-3a36-4afc-bd25-84af2b949eb7",
   "metadata": {},
   "source": [
    "### Sales Branch\n",
    "From:\n",
    "- Sales\n",
    "- Staff\n",
    "\n",
    "Depends on:\n",
    "- Country"
   ]
  },
  {
   "cell_type": "code",
   "execution_count": 34,
   "id": "1f9db35b-459a-46bd-994a-3b58b1733614",
   "metadata": {},
   "outputs": [
    {
     "name": "stdout",
     "output_type": "stream",
     "text": [
      "<class 'pandas.core.frame.DataFrame'>\n",
      "RangeIndex: 28 entries, 0 to 27\n",
      "Data columns (total 6 columns):\n",
      " #   Column             Non-Null Count  Dtype \n",
      "---  ------             --------------  ----- \n",
      " 0   SALES_BRANCH_CODE  28 non-null     int64 \n",
      " 1   ADDRESS1           28 non-null     object\n",
      " 2   ADDRESS2           9 non-null      object\n",
      " 3   CITY               28 non-null     object\n",
      " 4   REGION             15 non-null     object\n",
      " 5   COUNTRY_CODE       28 non-null     int64 \n",
      "dtypes: int64(2), object(4)\n",
      "memory usage: 1.4+ KB\n"
     ]
    },
    {
     "data": {
      "text/plain": [
       "28"
      ]
     },
     "execution_count": 34,
     "metadata": {},
     "output_type": "execute_result"
    }
   ],
   "source": [
    "sales_sales_branch = pd.read_sql_query('SELECT * FROM sales_branch', sales_conn)\n",
    "\n",
    "staff_sales_branch = pd.read_sql_query('SELECT * FROM sales_branch', staff_conn)\n",
    "\n",
    "sales_branch = pd.merge(\n",
    "    sales_sales_branch, \n",
    "    staff_sales_branch, \n",
    "    on=['SALES_BRANCH_CODE'], \n",
    "    how='inner', \n",
    "    suffixes=('_sales', '_staff')\n",
    ")\n",
    "\n",
    "sales_branch = sales_branch.drop(columns=['ADDRESS1_sales', 'ADDRESS2_sales', 'CITY_sales', \n",
    "                   'REGION_sales', 'COUNTRY_CODE_sales'])\n",
    "\n",
    "sales_branch = sales_branch.rename(columns=lambda x: x.replace('_staff', ''))\n",
    "\n",
    "sales_branch.to_sql('sales_branch', engine, if_exists='append', index=False)"
   ]
  },
  {
   "cell_type": "markdown",
   "id": "0c8d1e6e-12e4-4e05-9e9f-d928b23722fb",
   "metadata": {},
   "source": [
    "### Course\n",
    "From:\n",
    "- Staff"
   ]
  },
  {
   "cell_type": "code",
   "execution_count": 35,
   "id": "9a2f3144-3663-43ed-90f2-283622f40a42",
   "metadata": {},
   "outputs": [
    {
     "data": {
      "text/plain": [
       "9"
      ]
     },
     "execution_count": 35,
     "metadata": {},
     "output_type": "execute_result"
    }
   ],
   "source": [
    "course = pd.read_sql_query('SELECT * FROM course', staff_conn)\n",
    "course.to_sql('course', engine, if_exists='append', index=False)"
   ]
  },
  {
   "cell_type": "markdown",
   "id": "058d4119-a7b5-45c3-9942-28889803af50",
   "metadata": {},
   "source": [
    "### Sales Staff\n",
    "From:\n",
    "- Sales\n",
    "- Staff\n",
    "\n",
    "Depends on:\n",
    "- Sales Branch"
   ]
  },
  {
   "cell_type": "code",
   "execution_count": 41,
   "id": "ef4e1632-bb14-4edf-a6ba-7be7c8bc1c33",
   "metadata": {},
   "outputs": [
    {
     "name": "stdout",
     "output_type": "stream",
     "text": [
      "<class 'pandas.core.frame.DataFrame'>\n",
      "RangeIndex: 102 entries, 0 to 101\n",
      "Data columns (total 20 columns):\n",
      " #   Column                   Non-Null Count  Dtype  \n",
      "---  ------                   --------------  -----  \n",
      " 0   SALES_STAFF_CODE         102 non-null    int64  \n",
      " 1   FIRST_NAME_sales         102 non-null    object \n",
      " 2   LAST_NAME_sales          102 non-null    object \n",
      " 3   POSITION_EN_sales        102 non-null    object \n",
      " 4   WORK_PHONE_sales         102 non-null    object \n",
      " 5   EXTENSION_sales          100 non-null    float64\n",
      " 6   FAX_sales                102 non-null    object \n",
      " 7   EMAIL_sales              102 non-null    object \n",
      " 8   DATE_HIRED_sales         102 non-null    object \n",
      " 9   SALES_BRANCH_CODE_sales  102 non-null    int64  \n",
      " 10  FIRST_NAME_staff         102 non-null    object \n",
      " 11  LAST_NAME_staff          102 non-null    object \n",
      " 12  POSITION_EN_staff        102 non-null    object \n",
      " 13  WORK_PHONE_staff         102 non-null    object \n",
      " 14  EXTENSION_staff          100 non-null    float64\n",
      " 15  FAX_staff                102 non-null    object \n",
      " 16  EMAIL_staff              102 non-null    object \n",
      " 17  DATE_HIRED_staff         102 non-null    object \n",
      " 18  SALES_BRANCH_CODE_staff  102 non-null    int64  \n",
      " 19  MANAGER_CODE             102 non-null    int64  \n",
      "dtypes: float64(2), int64(4), object(14)\n",
      "memory usage: 16.1+ KB\n"
     ]
    },
    {
     "data": {
      "text/plain": [
       "102"
      ]
     },
     "execution_count": 41,
     "metadata": {},
     "output_type": "execute_result"
    }
   ],
   "source": [
    "sales_sales_staff = pd.read_sql_query('SELECT * FROM sales_staff', sales_conn)\n",
    "\n",
    "staff_sales_staff = pd.read_sql_query('SELECT * FROM sales_staff', staff_conn)\n",
    "\n",
    "sales_staff = pd.merge(\n",
    "    sales_sales_staff, \n",
    "    staff_sales_staff, \n",
    "    on=['SALES_STAFF_CODE'], \n",
    "    how='inner', \n",
    "    suffixes=('_sales', '_staff')\n",
    ")\n",
    "\n",
    "sales_staff = sales_staff.drop(columns=['FIRST_NAME_sales', 'LAST_NAME_sales', 'POSITION_EN_sales', 'WORK_PHONE_sales', 'EXTENSION_sales', \n",
    "                                        'FAX_sales', 'EMAIL_sales', 'DATE_HIRED_sales', 'SALES_BRANCH_CODE_sales'])\n",
    "\n",
    "sales_staff = sales_staff.rename(columns=lambda x: x.replace('_staff', ''))\n",
    "\n",
    "sales_staff.to_sql('sales_staff', engine, if_exists='append', index=False)"
   ]
  },
  {
   "cell_type": "markdown",
   "id": "8c2d0d27-479c-401d-91ed-43e291416a00",
   "metadata": {},
   "source": [
    "### Order Method\n",
    "From:\n",
    "- Sales"
   ]
  },
  {
   "cell_type": "code",
   "execution_count": 42,
   "id": "12ae9433-2efe-48da-84cd-521401566f98",
   "metadata": {},
   "outputs": [
    {
     "data": {
      "text/plain": [
       "7"
      ]
     },
     "execution_count": 42,
     "metadata": {},
     "output_type": "execute_result"
    }
   ],
   "source": [
    "order_method = pd.read_sql_query('SELECT * FROM order_method', sales_conn)\n",
    "order_method.to_sql('order_method', engine, if_exists='append', index=False)"
   ]
  },
  {
   "cell_type": "markdown",
   "id": "e50095f0-d8a7-4ddb-bb7a-15914e778c0e",
   "metadata": {},
   "source": [
    "### Order Header\n",
    "From:\n",
    "- Sales\n",
    "\n",
    "Depends on:\n",
    "- Retailer Site\n",
    "- Sales Staff\n",
    "- Sales Branch\n",
    "- Order Method"
   ]
  },
  {
   "cell_type": "code",
   "execution_count": 43,
   "id": "6c124b07-0be6-4170-90f3-bf95edbcf78c",
   "metadata": {},
   "outputs": [
    {
     "data": {
      "text/plain": [
       "120"
      ]
     },
     "execution_count": 43,
     "metadata": {},
     "output_type": "execute_result"
    }
   ],
   "source": [
    "order_header = pd.read_sql_query('SELECT * FROM order_header', sales_conn)\n",
    "order_header.to_sql('order_header', engine, if_exists='append', index=False)"
   ]
  },
  {
   "cell_type": "markdown",
   "id": "7270573c-eaf1-4838-a084-f1f1bc24ca4c",
   "metadata": {},
   "source": [
    "### Product Line\n",
    "From:\n",
    "- Sales"
   ]
  },
  {
   "cell_type": "code",
   "execution_count": 44,
   "id": "28159d11-88a1-4476-b6d3-0bea50f2cfc2",
   "metadata": {},
   "outputs": [
    {
     "data": {
      "text/plain": [
       "5"
      ]
     },
     "execution_count": 44,
     "metadata": {},
     "output_type": "execute_result"
    }
   ],
   "source": [
    "product_line = pd.read_sql_query('SELECT * FROM product_line', sales_conn)\n",
    "product_line.to_sql('product_line', engine, if_exists='append', index=False)"
   ]
  },
  {
   "cell_type": "markdown",
   "id": "4a2c8dda-fdcb-4e60-b649-6c751f1217c8",
   "metadata": {},
   "source": [
    "### Product Type\n",
    "From:\n",
    "- Sales\n",
    "\n",
    "Depends on:\n",
    "- Product Line"
   ]
  },
  {
   "cell_type": "code",
   "execution_count": 45,
   "id": "53f6193c-3597-4211-bc33-735570ba9934",
   "metadata": {},
   "outputs": [
    {
     "data": {
      "text/plain": [
       "21"
      ]
     },
     "execution_count": 45,
     "metadata": {},
     "output_type": "execute_result"
    }
   ],
   "source": [
    "product_type = pd.read_sql_query('SELECT * FROM product_type', sales_conn)\n",
    "product_type.to_sql('product_type', engine, if_exists='append', index=False)"
   ]
  },
  {
   "cell_type": "markdown",
   "id": "a2ca4eb1-637c-4ed8-bfc7-d97a8275ac5c",
   "metadata": {},
   "source": [
    "### Product\n",
    "From:\n",
    "- Sales\n",
    "\n",
    "Depends on:\n",
    "- Product Type"
   ]
  },
  {
   "cell_type": "code",
   "execution_count": 46,
   "id": "70b75c36-df20-401c-b0d2-3b0a706756c6",
   "metadata": {},
   "outputs": [
    {
     "data": {
      "text/plain": [
       "115"
      ]
     },
     "execution_count": 46,
     "metadata": {},
     "output_type": "execute_result"
    }
   ],
   "source": [
    "product = pd.read_sql_query('SELECT * FROM product', sales_conn)\n",
    "product.to_sql('product', engine, if_exists='append', index=False)"
   ]
  },
  {
   "cell_type": "markdown",
   "id": "c2072a63-1aaf-4fce-b272-1bf49539c582",
   "metadata": {},
   "source": [
    "### Order Details\n",
    "From:\n",
    "- Sales\n",
    "\n",
    "Depends on:\n",
    "- Order Header\n",
    "- Product"
   ]
  },
  {
   "cell_type": "code",
   "execution_count": 47,
   "id": "1147a369-3c62-4400-98c3-a49e80b9d488",
   "metadata": {},
   "outputs": [
    {
     "data": {
      "text/plain": [
       "7"
      ]
     },
     "execution_count": 47,
     "metadata": {},
     "output_type": "execute_result"
    }
   ],
   "source": [
    "order_details = pd.read_sql_query('SELECT * FROM order_details', sales_conn)\n",
    "order_details.to_sql('order_details', engine, if_exists='append', index=False)"
   ]
  },
  {
   "cell_type": "markdown",
   "id": "3448102c-bc5a-4ad2-8416-570730e2789c",
   "metadata": {},
   "source": [
    "### Return Reason\n",
    "From:\n",
    "- Sales"
   ]
  },
  {
   "cell_type": "code",
   "execution_count": 48,
   "id": "1dd22b78-9e14-4cea-ac82-a17dd3ac5b75",
   "metadata": {},
   "outputs": [
    {
     "data": {
      "text/plain": [
       "5"
      ]
     },
     "execution_count": 48,
     "metadata": {},
     "output_type": "execute_result"
    }
   ],
   "source": [
    "return_reason = pd.read_sql_query('SELECT * FROM return_reason', sales_conn)\n",
    "return_reason.to_sql('return_reason', engine, if_exists='append', index=False)"
   ]
  },
  {
   "cell_type": "markdown",
   "id": "11bc7638-406c-4ab2-9bf3-ef8082bad4f0",
   "metadata": {},
   "source": [
    "### Returned Item\n",
    "From:\n",
    "- Sales\n",
    "\n",
    "Depends on:\n",
    "- Order Details\n",
    "- Return Reason"
   ]
  },
  {
   "cell_type": "code",
   "execution_count": 49,
   "id": "b5af15ce-eca4-4afa-95e7-b545a167bfd2",
   "metadata": {},
   "outputs": [
    {
     "data": {
      "text/plain": [
       "287"
      ]
     },
     "execution_count": 49,
     "metadata": {},
     "output_type": "execute_result"
    }
   ],
   "source": [
    "returned_item = pd.read_sql_query('SELECT * FROM returned_item', sales_conn)\n",
    "returned_item.to_sql('returned_item', engine, if_exists='append', index=False)"
   ]
  },
  {
   "cell_type": "markdown",
   "id": "d6c546bf-3bb6-4aa4-85e6-617df41bf0ee",
   "metadata": {},
   "source": [
    "### Satisfaction Type\n",
    "From:\n",
    "- Staff"
   ]
  },
  {
   "cell_type": "code",
   "execution_count": 51,
   "id": "53d1f344-fff4-4646-a30b-dd12433c1906",
   "metadata": {},
   "outputs": [
    {
     "data": {
      "text/plain": [
       "5"
      ]
     },
     "execution_count": 51,
     "metadata": {},
     "output_type": "execute_result"
    }
   ],
   "source": [
    "satisfaction_type = pd.read_sql_query('SELECT * FROM satisfaction_type', staff_conn)\n",
    "satisfaction_type.to_sql('satisfaction_type', engine, if_exists='append', index=False)"
   ]
  },
  {
   "cell_type": "markdown",
   "id": "04551a19-13fa-49af-bca1-ace270148e50",
   "metadata": {},
   "source": [
    "### Satisfaction\n",
    "From:\n",
    "- Staff\n",
    "\n",
    "Depends on:\n",
    "- Sales Staff\n",
    "- Satisfaction Type"
   ]
  },
  {
   "cell_type": "code",
   "execution_count": 52,
   "id": "97924172-87cc-426c-8052-6ca43e6d0adc",
   "metadata": {},
   "outputs": [
    {
     "data": {
      "text/plain": [
       "301"
      ]
     },
     "execution_count": 52,
     "metadata": {},
     "output_type": "execute_result"
    }
   ],
   "source": [
    "satisfaction = pd.read_sql_query('SELECT * FROM satisfaction', staff_conn)\n",
    "satisfaction.to_sql('satisfaction', engine, if_exists='append', index=False)"
   ]
  },
  {
   "cell_type": "markdown",
   "id": "c4a4486a-79b8-4c22-9a8f-20bf968bbf3d",
   "metadata": {},
   "source": [
    "### Training\n",
    "From:\n",
    "- Staff\n",
    "\n",
    "Depends on:\n",
    "- Sales Staff\n",
    "- Course"
   ]
  },
  {
   "cell_type": "code",
   "execution_count": 54,
   "id": "91980897-c39a-4f28-9d17-94b882770e19",
   "metadata": {},
   "outputs": [
    {
     "data": {
      "text/plain": [
       "402"
      ]
     },
     "execution_count": 54,
     "metadata": {},
     "output_type": "execute_result"
    }
   ],
   "source": [
    "training = pd.read_sql_query('SELECT * FROM training', staff_conn)\n",
    "training.to_sql('training', engine, if_exists='append', index=False)"
   ]
  },
  {
   "cell_type": "markdown",
   "id": "689a2bba-7f5a-411a-980b-7780b30cc274",
   "metadata": {},
   "source": [
    "### Product Forecast"
   ]
  },
  {
   "cell_type": "code",
   "execution_count": 56,
   "id": "10a984b7-3b40-4365-8e80-84d31455cd50",
   "metadata": {},
   "outputs": [
    {
     "data": {
      "text/plain": [
       "204"
      ]
     },
     "execution_count": 56,
     "metadata": {},
     "output_type": "execute_result"
    }
   ],
   "source": [
    "product_forecast = pd.read_csv('../data/product_forecast_volledig.csv')\n",
    "\n",
    "product_forecast.to_sql('product_forecast', engine, if_exists='append', index=False)"
   ]
  },
  {
   "cell_type": "markdown",
   "id": "9dea3f47-a47e-4671-9608-6580e46ebe85",
   "metadata": {},
   "source": [
    "### Inventory Levels"
   ]
  },
  {
   "cell_type": "code",
   "execution_count": 57,
   "id": "ee1f87b3-9a95-4673-a749-ab70959ace81",
   "metadata": {},
   "outputs": [
    {
     "ename": "ProgrammingError",
     "evalue": "(pyodbc.ProgrammingError) ('42S22', \"[42S22] [Microsoft][ODBC Driver 17 for SQL Server][SQL Server]Invalid column name 'INVENTORY_YEAR;INVENTORY_MONTH;PRODUCT_NUMBER;INVENTORY_COUNT'. (207) (SQLExecDirectW)\")\n[SQL: INSERT INTO product_forecast ([INVENTORY_YEAR;INVENTORY_MONTH;PRODUCT_NUMBER;INVENTORY_COUNT]) VALUES (?), (?), (?), (?), (?), (?), (?), (?), (?), (?), (?), (?), (?), (?), (?), (?), (?), (?), (?), (?), (?), (?), (?), (?), (?), (?), (?), (?), (?), (?) ... 4750 characters truncated ... , (?), (?), (?), (?), (?), (?), (?), (?), (?), (?), (?), (?), (?), (?), (?), (?), (?), (?), (?), (?)]\n[parameters: ('2023;4;48;1932', '2023;4;49;1400', '2023;4;50;21705', '2023;4;51;9710', '2023;4;52;5616', '2023;4;53;7060', '2023;4;54;6943', '2023;4;55;4432', '2023;4;56;14188', '2023;4;57;1599', '2023;4;58;1645', '2023;4;59;749', '2023;4;60;8419', '2023;4;61;7175', '2023;4;62;2428', '2023;4;63;2091', '2023;4;64;4175', '2023;4;65;1754', '2023;4;66;576', '2023;4;67;1354', '2023;4;68;1576', '2023;4;69;609', '2023;4;70;803', '2023;4;71;1009', '2023;4;72;1009', '2023;4;73;1508', '2023;4;74;2690', '2023;4;75;2416', '2023;4;76;1938', '2023;4;77;2354', '2023;4;78;1073', '2023;4;79;733', '2023;4;80;889', '2023;4;81;573', '2023;4;82;2075', '2023;4;83;2034', '2023;4;84;-183', '2023;4;85;1390', '2023;4;86;17366', '2023;4;87;19789', '2023;4;88;18456', '2023;4;89;21414', '2023;4;90;29722', '2023;4;91;14100', '2023;4;92;6273', '2023;4;93;17880', '2023;4;94;26290', '2023;4;95;20552', '2023;4;96;3404', '2023;4;97;1375' ... 900 parameters truncated ... '2023;12;78;889', '2023;12;79;547', '2023;12;80;1327', '2023;12;81;939', '2023;12;82;3069', '2023;12;83;2362', '2023;12;84;1195', '2023;12;85;1624', '2023;12;86;11284', '2023;12;87;19731', '2023;12;88;15362', '2023;12;89;15364', '2023;12;90;21124', '2023;12;91;10098', '2023;12;92;4967', '2023;12;93;14606', '2023;12;94;19716', '2023;12;95;17402', '2023;12;96;2312', '2023;12;97;1421', '2023;12;98;7605', '2023;12;99;5043', '2023;12;100;5078', '2023;12;101;1221', '2023;12;102;1010', '2023;12;103;350', '2023;12;104;497', '2023;12;105;957', '2023;12;106;887', '2023;12;107;409', '2023;12;108;500', '2023;12;109;1161', '2023;12;110;1343', '2023;12;111;736', '2023;12;112;6764', '2023;12;113;3839', '2023;12;114;246', '2023;12;115;2462', '2024;1;1;6985', '2024;1;2;7862', '2024;1;3;4628', '2024;1;4;9386', '2024;1;5;2232', '2024;1;6;904', '2024;1;7;2627', '2024;1;8;1383', '2024;1;9;1885', '2024;1;10;6984', '2024;1;11;820', '2024;1;12;2108')]\n(Background on this error at: https://sqlalche.me/e/20/f405)",
     "output_type": "error",
     "traceback": [
      "\u001b[0;31m---------------------------------------------------------------------------\u001b[0m",
      "\u001b[0;31mProgrammingError\u001b[0m                          Traceback (most recent call last)",
      "File \u001b[0;32m/opt/homebrew/Cellar/jupyterlab/4.3.5/libexec/lib/python3.13/site-packages/sqlalchemy/engine/base.py:2115\u001b[0m, in \u001b[0;36mConnection._exec_insertmany_context\u001b[0;34m(self, dialect, context)\u001b[0m\n\u001b[1;32m   2114\u001b[0m     \u001b[38;5;28;01melse\u001b[39;00m:\n\u001b[0;32m-> 2115\u001b[0m         \u001b[43mdialect\u001b[49m\u001b[38;5;241;43m.\u001b[39;49m\u001b[43mdo_execute\u001b[49m\u001b[43m(\u001b[49m\n\u001b[1;32m   2116\u001b[0m \u001b[43m            \u001b[49m\u001b[43mcursor\u001b[49m\u001b[43m,\u001b[49m\n\u001b[1;32m   2117\u001b[0m \u001b[43m            \u001b[49m\u001b[43msub_stmt\u001b[49m\u001b[43m,\u001b[49m\n\u001b[1;32m   2118\u001b[0m \u001b[43m            \u001b[49m\u001b[43msub_params\u001b[49m\u001b[43m,\u001b[49m\n\u001b[1;32m   2119\u001b[0m \u001b[43m            \u001b[49m\u001b[43mcontext\u001b[49m\u001b[43m,\u001b[49m\n\u001b[1;32m   2120\u001b[0m \u001b[43m        \u001b[49m\u001b[43m)\u001b[49m\n\u001b[1;32m   2122\u001b[0m \u001b[38;5;28;01mexcept\u001b[39;00m \u001b[38;5;167;01mBaseException\u001b[39;00m \u001b[38;5;28;01mas\u001b[39;00m e:\n",
      "File \u001b[0;32m/opt/homebrew/Cellar/jupyterlab/4.3.5/libexec/lib/python3.13/site-packages/sqlalchemy/engine/default.py:942\u001b[0m, in \u001b[0;36mDefaultDialect.do_execute\u001b[0;34m(self, cursor, statement, parameters, context)\u001b[0m\n\u001b[1;32m    941\u001b[0m \u001b[38;5;28;01mdef\u001b[39;00m\u001b[38;5;250m \u001b[39m\u001b[38;5;21mdo_execute\u001b[39m(\u001b[38;5;28mself\u001b[39m, cursor, statement, parameters, context\u001b[38;5;241m=\u001b[39m\u001b[38;5;28;01mNone\u001b[39;00m):\n\u001b[0;32m--> 942\u001b[0m     \u001b[43mcursor\u001b[49m\u001b[38;5;241;43m.\u001b[39;49m\u001b[43mexecute\u001b[49m\u001b[43m(\u001b[49m\u001b[43mstatement\u001b[49m\u001b[43m,\u001b[49m\u001b[43m \u001b[49m\u001b[43mparameters\u001b[49m\u001b[43m)\u001b[49m\n",
      "\u001b[0;31mProgrammingError\u001b[0m: ('42S22', \"[42S22] [Microsoft][ODBC Driver 17 for SQL Server][SQL Server]Invalid column name 'INVENTORY_YEAR;INVENTORY_MONTH;PRODUCT_NUMBER;INVENTORY_COUNT'. (207) (SQLExecDirectW)\")",
      "\nThe above exception was the direct cause of the following exception:\n",
      "\u001b[0;31mProgrammingError\u001b[0m                          Traceback (most recent call last)",
      "Cell \u001b[0;32mIn[57], line 3\u001b[0m\n\u001b[1;32m      1\u001b[0m inventory_levels \u001b[38;5;241m=\u001b[39m pd\u001b[38;5;241m.\u001b[39mread_csv(\u001b[38;5;124m'\u001b[39m\u001b[38;5;124m../data/inventory_levels_volledig.csv\u001b[39m\u001b[38;5;124m'\u001b[39m)\n\u001b[0;32m----> 3\u001b[0m \u001b[43minventory_levels\u001b[49m\u001b[38;5;241;43m.\u001b[39;49m\u001b[43mto_sql\u001b[49m\u001b[43m(\u001b[49m\u001b[38;5;124;43m'\u001b[39;49m\u001b[38;5;124;43mproduct_forecast\u001b[39;49m\u001b[38;5;124;43m'\u001b[39;49m\u001b[43m,\u001b[49m\u001b[43m \u001b[49m\u001b[43mengine\u001b[49m\u001b[43m,\u001b[49m\u001b[43m \u001b[49m\u001b[43mif_exists\u001b[49m\u001b[38;5;241;43m=\u001b[39;49m\u001b[38;5;124;43m'\u001b[39;49m\u001b[38;5;124;43mappend\u001b[39;49m\u001b[38;5;124;43m'\u001b[39;49m\u001b[43m,\u001b[49m\u001b[43m \u001b[49m\u001b[43mindex\u001b[49m\u001b[38;5;241;43m=\u001b[39;49m\u001b[38;5;28;43;01mFalse\u001b[39;49;00m\u001b[43m)\u001b[49m\n",
      "File \u001b[0;32m/opt/homebrew/Cellar/jupyterlab/4.3.5/libexec/lib/python3.13/site-packages/pandas/util/_decorators.py:333\u001b[0m, in \u001b[0;36mdeprecate_nonkeyword_arguments.<locals>.decorate.<locals>.wrapper\u001b[0;34m(*args, **kwargs)\u001b[0m\n\u001b[1;32m    327\u001b[0m \u001b[38;5;28;01mif\u001b[39;00m \u001b[38;5;28mlen\u001b[39m(args) \u001b[38;5;241m>\u001b[39m num_allow_args:\n\u001b[1;32m    328\u001b[0m     warnings\u001b[38;5;241m.\u001b[39mwarn(\n\u001b[1;32m    329\u001b[0m         msg\u001b[38;5;241m.\u001b[39mformat(arguments\u001b[38;5;241m=\u001b[39m_format_argument_list(allow_args)),\n\u001b[1;32m    330\u001b[0m         \u001b[38;5;167;01mFutureWarning\u001b[39;00m,\n\u001b[1;32m    331\u001b[0m         stacklevel\u001b[38;5;241m=\u001b[39mfind_stack_level(),\n\u001b[1;32m    332\u001b[0m     )\n\u001b[0;32m--> 333\u001b[0m \u001b[38;5;28;01mreturn\u001b[39;00m \u001b[43mfunc\u001b[49m\u001b[43m(\u001b[49m\u001b[38;5;241;43m*\u001b[39;49m\u001b[43margs\u001b[49m\u001b[43m,\u001b[49m\u001b[43m \u001b[49m\u001b[38;5;241;43m*\u001b[39;49m\u001b[38;5;241;43m*\u001b[39;49m\u001b[43mkwargs\u001b[49m\u001b[43m)\u001b[49m\n",
      "File \u001b[0;32m/opt/homebrew/Cellar/jupyterlab/4.3.5/libexec/lib/python3.13/site-packages/pandas/core/generic.py:3087\u001b[0m, in \u001b[0;36mNDFrame.to_sql\u001b[0;34m(self, name, con, schema, if_exists, index, index_label, chunksize, dtype, method)\u001b[0m\n\u001b[1;32m   2889\u001b[0m \u001b[38;5;250m\u001b[39m\u001b[38;5;124;03m\"\"\"\u001b[39;00m\n\u001b[1;32m   2890\u001b[0m \u001b[38;5;124;03mWrite records stored in a DataFrame to a SQL database.\u001b[39;00m\n\u001b[1;32m   2891\u001b[0m \n\u001b[0;32m   (...)\u001b[0m\n\u001b[1;32m   3083\u001b[0m \u001b[38;5;124;03m[(1,), (None,), (2,)]\u001b[39;00m\n\u001b[1;32m   3084\u001b[0m \u001b[38;5;124;03m\"\"\"\u001b[39;00m  \u001b[38;5;66;03m# noqa: E501\u001b[39;00m\n\u001b[1;32m   3085\u001b[0m \u001b[38;5;28;01mfrom\u001b[39;00m\u001b[38;5;250m \u001b[39m\u001b[38;5;21;01mpandas\u001b[39;00m\u001b[38;5;21;01m.\u001b[39;00m\u001b[38;5;21;01mio\u001b[39;00m\u001b[38;5;250m \u001b[39m\u001b[38;5;28;01mimport\u001b[39;00m sql\n\u001b[0;32m-> 3087\u001b[0m \u001b[38;5;28;01mreturn\u001b[39;00m \u001b[43msql\u001b[49m\u001b[38;5;241;43m.\u001b[39;49m\u001b[43mto_sql\u001b[49m\u001b[43m(\u001b[49m\n\u001b[1;32m   3088\u001b[0m \u001b[43m    \u001b[49m\u001b[38;5;28;43mself\u001b[39;49m\u001b[43m,\u001b[49m\n\u001b[1;32m   3089\u001b[0m \u001b[43m    \u001b[49m\u001b[43mname\u001b[49m\u001b[43m,\u001b[49m\n\u001b[1;32m   3090\u001b[0m \u001b[43m    \u001b[49m\u001b[43mcon\u001b[49m\u001b[43m,\u001b[49m\n\u001b[1;32m   3091\u001b[0m \u001b[43m    \u001b[49m\u001b[43mschema\u001b[49m\u001b[38;5;241;43m=\u001b[39;49m\u001b[43mschema\u001b[49m\u001b[43m,\u001b[49m\n\u001b[1;32m   3092\u001b[0m \u001b[43m    \u001b[49m\u001b[43mif_exists\u001b[49m\u001b[38;5;241;43m=\u001b[39;49m\u001b[43mif_exists\u001b[49m\u001b[43m,\u001b[49m\n\u001b[1;32m   3093\u001b[0m \u001b[43m    \u001b[49m\u001b[43mindex\u001b[49m\u001b[38;5;241;43m=\u001b[39;49m\u001b[43mindex\u001b[49m\u001b[43m,\u001b[49m\n\u001b[1;32m   3094\u001b[0m \u001b[43m    \u001b[49m\u001b[43mindex_label\u001b[49m\u001b[38;5;241;43m=\u001b[39;49m\u001b[43mindex_label\u001b[49m\u001b[43m,\u001b[49m\n\u001b[1;32m   3095\u001b[0m \u001b[43m    \u001b[49m\u001b[43mchunksize\u001b[49m\u001b[38;5;241;43m=\u001b[39;49m\u001b[43mchunksize\u001b[49m\u001b[43m,\u001b[49m\n\u001b[1;32m   3096\u001b[0m \u001b[43m    \u001b[49m\u001b[43mdtype\u001b[49m\u001b[38;5;241;43m=\u001b[39;49m\u001b[43mdtype\u001b[49m\u001b[43m,\u001b[49m\n\u001b[1;32m   3097\u001b[0m \u001b[43m    \u001b[49m\u001b[43mmethod\u001b[49m\u001b[38;5;241;43m=\u001b[39;49m\u001b[43mmethod\u001b[49m\u001b[43m,\u001b[49m\n\u001b[1;32m   3098\u001b[0m \u001b[43m\u001b[49m\u001b[43m)\u001b[49m\n",
      "File \u001b[0;32m/opt/homebrew/Cellar/jupyterlab/4.3.5/libexec/lib/python3.13/site-packages/pandas/io/sql.py:842\u001b[0m, in \u001b[0;36mto_sql\u001b[0;34m(frame, name, con, schema, if_exists, index, index_label, chunksize, dtype, method, engine, **engine_kwargs)\u001b[0m\n\u001b[1;32m    837\u001b[0m     \u001b[38;5;28;01mraise\u001b[39;00m \u001b[38;5;167;01mNotImplementedError\u001b[39;00m(\n\u001b[1;32m    838\u001b[0m         \u001b[38;5;124m\"\u001b[39m\u001b[38;5;124m'\u001b[39m\u001b[38;5;124mframe\u001b[39m\u001b[38;5;124m'\u001b[39m\u001b[38;5;124m argument should be either a Series or a DataFrame\u001b[39m\u001b[38;5;124m\"\u001b[39m\n\u001b[1;32m    839\u001b[0m     )\n\u001b[1;32m    841\u001b[0m \u001b[38;5;28;01mwith\u001b[39;00m pandasSQL_builder(con, schema\u001b[38;5;241m=\u001b[39mschema, need_transaction\u001b[38;5;241m=\u001b[39m\u001b[38;5;28;01mTrue\u001b[39;00m) \u001b[38;5;28;01mas\u001b[39;00m pandas_sql:\n\u001b[0;32m--> 842\u001b[0m     \u001b[38;5;28;01mreturn\u001b[39;00m \u001b[43mpandas_sql\u001b[49m\u001b[38;5;241;43m.\u001b[39;49m\u001b[43mto_sql\u001b[49m\u001b[43m(\u001b[49m\n\u001b[1;32m    843\u001b[0m \u001b[43m        \u001b[49m\u001b[43mframe\u001b[49m\u001b[43m,\u001b[49m\n\u001b[1;32m    844\u001b[0m \u001b[43m        \u001b[49m\u001b[43mname\u001b[49m\u001b[43m,\u001b[49m\n\u001b[1;32m    845\u001b[0m \u001b[43m        \u001b[49m\u001b[43mif_exists\u001b[49m\u001b[38;5;241;43m=\u001b[39;49m\u001b[43mif_exists\u001b[49m\u001b[43m,\u001b[49m\n\u001b[1;32m    846\u001b[0m \u001b[43m        \u001b[49m\u001b[43mindex\u001b[49m\u001b[38;5;241;43m=\u001b[39;49m\u001b[43mindex\u001b[49m\u001b[43m,\u001b[49m\n\u001b[1;32m    847\u001b[0m \u001b[43m        \u001b[49m\u001b[43mindex_label\u001b[49m\u001b[38;5;241;43m=\u001b[39;49m\u001b[43mindex_label\u001b[49m\u001b[43m,\u001b[49m\n\u001b[1;32m    848\u001b[0m \u001b[43m        \u001b[49m\u001b[43mschema\u001b[49m\u001b[38;5;241;43m=\u001b[39;49m\u001b[43mschema\u001b[49m\u001b[43m,\u001b[49m\n\u001b[1;32m    849\u001b[0m \u001b[43m        \u001b[49m\u001b[43mchunksize\u001b[49m\u001b[38;5;241;43m=\u001b[39;49m\u001b[43mchunksize\u001b[49m\u001b[43m,\u001b[49m\n\u001b[1;32m    850\u001b[0m \u001b[43m        \u001b[49m\u001b[43mdtype\u001b[49m\u001b[38;5;241;43m=\u001b[39;49m\u001b[43mdtype\u001b[49m\u001b[43m,\u001b[49m\n\u001b[1;32m    851\u001b[0m \u001b[43m        \u001b[49m\u001b[43mmethod\u001b[49m\u001b[38;5;241;43m=\u001b[39;49m\u001b[43mmethod\u001b[49m\u001b[43m,\u001b[49m\n\u001b[1;32m    852\u001b[0m \u001b[43m        \u001b[49m\u001b[43mengine\u001b[49m\u001b[38;5;241;43m=\u001b[39;49m\u001b[43mengine\u001b[49m\u001b[43m,\u001b[49m\n\u001b[1;32m    853\u001b[0m \u001b[43m        \u001b[49m\u001b[38;5;241;43m*\u001b[39;49m\u001b[38;5;241;43m*\u001b[39;49m\u001b[43mengine_kwargs\u001b[49m\u001b[43m,\u001b[49m\n\u001b[1;32m    854\u001b[0m \u001b[43m    \u001b[49m\u001b[43m)\u001b[49m\n",
      "File \u001b[0;32m/opt/homebrew/Cellar/jupyterlab/4.3.5/libexec/lib/python3.13/site-packages/pandas/io/sql.py:2018\u001b[0m, in \u001b[0;36mSQLDatabase.to_sql\u001b[0;34m(self, frame, name, if_exists, index, index_label, schema, chunksize, dtype, method, engine, **engine_kwargs)\u001b[0m\n\u001b[1;32m   2006\u001b[0m sql_engine \u001b[38;5;241m=\u001b[39m get_engine(engine)\n\u001b[1;32m   2008\u001b[0m table \u001b[38;5;241m=\u001b[39m \u001b[38;5;28mself\u001b[39m\u001b[38;5;241m.\u001b[39mprep_table(\n\u001b[1;32m   2009\u001b[0m     frame\u001b[38;5;241m=\u001b[39mframe,\n\u001b[1;32m   2010\u001b[0m     name\u001b[38;5;241m=\u001b[39mname,\n\u001b[0;32m   (...)\u001b[0m\n\u001b[1;32m   2015\u001b[0m     dtype\u001b[38;5;241m=\u001b[39mdtype,\n\u001b[1;32m   2016\u001b[0m )\n\u001b[0;32m-> 2018\u001b[0m total_inserted \u001b[38;5;241m=\u001b[39m \u001b[43msql_engine\u001b[49m\u001b[38;5;241;43m.\u001b[39;49m\u001b[43minsert_records\u001b[49m\u001b[43m(\u001b[49m\n\u001b[1;32m   2019\u001b[0m \u001b[43m    \u001b[49m\u001b[43mtable\u001b[49m\u001b[38;5;241;43m=\u001b[39;49m\u001b[43mtable\u001b[49m\u001b[43m,\u001b[49m\n\u001b[1;32m   2020\u001b[0m \u001b[43m    \u001b[49m\u001b[43mcon\u001b[49m\u001b[38;5;241;43m=\u001b[39;49m\u001b[38;5;28;43mself\u001b[39;49m\u001b[38;5;241;43m.\u001b[39;49m\u001b[43mcon\u001b[49m\u001b[43m,\u001b[49m\n\u001b[1;32m   2021\u001b[0m \u001b[43m    \u001b[49m\u001b[43mframe\u001b[49m\u001b[38;5;241;43m=\u001b[39;49m\u001b[43mframe\u001b[49m\u001b[43m,\u001b[49m\n\u001b[1;32m   2022\u001b[0m \u001b[43m    \u001b[49m\u001b[43mname\u001b[49m\u001b[38;5;241;43m=\u001b[39;49m\u001b[43mname\u001b[49m\u001b[43m,\u001b[49m\n\u001b[1;32m   2023\u001b[0m \u001b[43m    \u001b[49m\u001b[43mindex\u001b[49m\u001b[38;5;241;43m=\u001b[39;49m\u001b[43mindex\u001b[49m\u001b[43m,\u001b[49m\n\u001b[1;32m   2024\u001b[0m \u001b[43m    \u001b[49m\u001b[43mschema\u001b[49m\u001b[38;5;241;43m=\u001b[39;49m\u001b[43mschema\u001b[49m\u001b[43m,\u001b[49m\n\u001b[1;32m   2025\u001b[0m \u001b[43m    \u001b[49m\u001b[43mchunksize\u001b[49m\u001b[38;5;241;43m=\u001b[39;49m\u001b[43mchunksize\u001b[49m\u001b[43m,\u001b[49m\n\u001b[1;32m   2026\u001b[0m \u001b[43m    \u001b[49m\u001b[43mmethod\u001b[49m\u001b[38;5;241;43m=\u001b[39;49m\u001b[43mmethod\u001b[49m\u001b[43m,\u001b[49m\n\u001b[1;32m   2027\u001b[0m \u001b[43m    \u001b[49m\u001b[38;5;241;43m*\u001b[39;49m\u001b[38;5;241;43m*\u001b[39;49m\u001b[43mengine_kwargs\u001b[49m\u001b[43m,\u001b[49m\n\u001b[1;32m   2028\u001b[0m \u001b[43m\u001b[49m\u001b[43m)\u001b[49m\n\u001b[1;32m   2030\u001b[0m \u001b[38;5;28mself\u001b[39m\u001b[38;5;241m.\u001b[39mcheck_case_sensitive(name\u001b[38;5;241m=\u001b[39mname, schema\u001b[38;5;241m=\u001b[39mschema)\n\u001b[1;32m   2031\u001b[0m \u001b[38;5;28;01mreturn\u001b[39;00m total_inserted\n",
      "File \u001b[0;32m/opt/homebrew/Cellar/jupyterlab/4.3.5/libexec/lib/python3.13/site-packages/pandas/io/sql.py:1567\u001b[0m, in \u001b[0;36mSQLAlchemyEngine.insert_records\u001b[0;34m(self, table, con, frame, name, index, schema, chunksize, method, **engine_kwargs)\u001b[0m\n\u001b[1;32m   1565\u001b[0m \u001b[38;5;28;01mif\u001b[39;00m re\u001b[38;5;241m.\u001b[39msearch(msg, err_text):\n\u001b[1;32m   1566\u001b[0m     \u001b[38;5;28;01mraise\u001b[39;00m \u001b[38;5;167;01mValueError\u001b[39;00m(\u001b[38;5;124m\"\u001b[39m\u001b[38;5;124minf cannot be used with MySQL\u001b[39m\u001b[38;5;124m\"\u001b[39m) \u001b[38;5;28;01mfrom\u001b[39;00m\u001b[38;5;250m \u001b[39m\u001b[38;5;21;01merr\u001b[39;00m\n\u001b[0;32m-> 1567\u001b[0m \u001b[38;5;28;01mraise\u001b[39;00m err\n",
      "File \u001b[0;32m/opt/homebrew/Cellar/jupyterlab/4.3.5/libexec/lib/python3.13/site-packages/pandas/io/sql.py:1558\u001b[0m, in \u001b[0;36mSQLAlchemyEngine.insert_records\u001b[0;34m(self, table, con, frame, name, index, schema, chunksize, method, **engine_kwargs)\u001b[0m\n\u001b[1;32m   1555\u001b[0m \u001b[38;5;28;01mfrom\u001b[39;00m\u001b[38;5;250m \u001b[39m\u001b[38;5;21;01msqlalchemy\u001b[39;00m\u001b[38;5;250m \u001b[39m\u001b[38;5;28;01mimport\u001b[39;00m exc\n\u001b[1;32m   1557\u001b[0m \u001b[38;5;28;01mtry\u001b[39;00m:\n\u001b[0;32m-> 1558\u001b[0m     \u001b[38;5;28;01mreturn\u001b[39;00m \u001b[43mtable\u001b[49m\u001b[38;5;241;43m.\u001b[39;49m\u001b[43minsert\u001b[49m\u001b[43m(\u001b[49m\u001b[43mchunksize\u001b[49m\u001b[38;5;241;43m=\u001b[39;49m\u001b[43mchunksize\u001b[49m\u001b[43m,\u001b[49m\u001b[43m \u001b[49m\u001b[43mmethod\u001b[49m\u001b[38;5;241;43m=\u001b[39;49m\u001b[43mmethod\u001b[49m\u001b[43m)\u001b[49m\n\u001b[1;32m   1559\u001b[0m \u001b[38;5;28;01mexcept\u001b[39;00m exc\u001b[38;5;241m.\u001b[39mStatementError \u001b[38;5;28;01mas\u001b[39;00m err:\n\u001b[1;32m   1560\u001b[0m     \u001b[38;5;66;03m# GH34431\u001b[39;00m\n\u001b[1;32m   1561\u001b[0m     \u001b[38;5;66;03m# https://stackoverflow.com/a/67358288/6067848\u001b[39;00m\n\u001b[1;32m   1562\u001b[0m     msg \u001b[38;5;241m=\u001b[39m \u001b[38;5;124mr\u001b[39m\u001b[38;5;124m\"\"\"\u001b[39m\u001b[38;5;124m(\u001b[39m\u001b[38;5;124m\\\u001b[39m\u001b[38;5;124m(1054, \u001b[39m\u001b[38;5;124m\"\u001b[39m\u001b[38;5;124mUnknown column \u001b[39m\u001b[38;5;124m'\u001b[39m\u001b[38;5;124minf(e0)?\u001b[39m\u001b[38;5;124m'\u001b[39m\u001b[38;5;124m in \u001b[39m\u001b[38;5;124m'\u001b[39m\u001b[38;5;124mfield list\u001b[39m\u001b[38;5;124m'\u001b[39m\u001b[38;5;124m\"\u001b[39m\u001b[38;5;124m\\\u001b[39m\u001b[38;5;124m))(?#\u001b[39m\n\u001b[1;32m   1563\u001b[0m \u001b[38;5;124m    )|inf can not be used with MySQL\u001b[39m\u001b[38;5;124m\"\"\"\u001b[39m\n",
      "File \u001b[0;32m/opt/homebrew/Cellar/jupyterlab/4.3.5/libexec/lib/python3.13/site-packages/pandas/io/sql.py:1119\u001b[0m, in \u001b[0;36mSQLTable.insert\u001b[0;34m(self, chunksize, method)\u001b[0m\n\u001b[1;32m   1116\u001b[0m     \u001b[38;5;28;01mbreak\u001b[39;00m\n\u001b[1;32m   1118\u001b[0m chunk_iter \u001b[38;5;241m=\u001b[39m \u001b[38;5;28mzip\u001b[39m(\u001b[38;5;241m*\u001b[39m(arr[start_i:end_i] \u001b[38;5;28;01mfor\u001b[39;00m arr \u001b[38;5;129;01min\u001b[39;00m data_list))\n\u001b[0;32m-> 1119\u001b[0m num_inserted \u001b[38;5;241m=\u001b[39m \u001b[43mexec_insert\u001b[49m\u001b[43m(\u001b[49m\u001b[43mconn\u001b[49m\u001b[43m,\u001b[49m\u001b[43m \u001b[49m\u001b[43mkeys\u001b[49m\u001b[43m,\u001b[49m\u001b[43m \u001b[49m\u001b[43mchunk_iter\u001b[49m\u001b[43m)\u001b[49m\n\u001b[1;32m   1120\u001b[0m \u001b[38;5;66;03m# GH 46891\u001b[39;00m\n\u001b[1;32m   1121\u001b[0m \u001b[38;5;28;01mif\u001b[39;00m num_inserted \u001b[38;5;129;01mis\u001b[39;00m \u001b[38;5;129;01mnot\u001b[39;00m \u001b[38;5;28;01mNone\u001b[39;00m:\n",
      "File \u001b[0;32m/opt/homebrew/Cellar/jupyterlab/4.3.5/libexec/lib/python3.13/site-packages/pandas/io/sql.py:1010\u001b[0m, in \u001b[0;36mSQLTable._execute_insert\u001b[0;34m(self, conn, keys, data_iter)\u001b[0m\n\u001b[1;32m    998\u001b[0m \u001b[38;5;250m\u001b[39m\u001b[38;5;124;03m\"\"\"\u001b[39;00m\n\u001b[1;32m    999\u001b[0m \u001b[38;5;124;03mExecute SQL statement inserting data\u001b[39;00m\n\u001b[1;32m   1000\u001b[0m \n\u001b[0;32m   (...)\u001b[0m\n\u001b[1;32m   1007\u001b[0m \u001b[38;5;124;03m   Each item contains a list of values to be inserted\u001b[39;00m\n\u001b[1;32m   1008\u001b[0m \u001b[38;5;124;03m\"\"\"\u001b[39;00m\n\u001b[1;32m   1009\u001b[0m data \u001b[38;5;241m=\u001b[39m [\u001b[38;5;28mdict\u001b[39m(\u001b[38;5;28mzip\u001b[39m(keys, row)) \u001b[38;5;28;01mfor\u001b[39;00m row \u001b[38;5;129;01min\u001b[39;00m data_iter]\n\u001b[0;32m-> 1010\u001b[0m result \u001b[38;5;241m=\u001b[39m \u001b[43mconn\u001b[49m\u001b[38;5;241;43m.\u001b[39;49m\u001b[43mexecute\u001b[49m\u001b[43m(\u001b[49m\u001b[38;5;28;43mself\u001b[39;49m\u001b[38;5;241;43m.\u001b[39;49m\u001b[43mtable\u001b[49m\u001b[38;5;241;43m.\u001b[39;49m\u001b[43minsert\u001b[49m\u001b[43m(\u001b[49m\u001b[43m)\u001b[49m\u001b[43m,\u001b[49m\u001b[43m \u001b[49m\u001b[43mdata\u001b[49m\u001b[43m)\u001b[49m\n\u001b[1;32m   1011\u001b[0m \u001b[38;5;28;01mreturn\u001b[39;00m result\u001b[38;5;241m.\u001b[39mrowcount\n",
      "File \u001b[0;32m/opt/homebrew/Cellar/jupyterlab/4.3.5/libexec/lib/python3.13/site-packages/sqlalchemy/engine/base.py:1416\u001b[0m, in \u001b[0;36mConnection.execute\u001b[0;34m(self, statement, parameters, execution_options)\u001b[0m\n\u001b[1;32m   1414\u001b[0m     \u001b[38;5;28;01mraise\u001b[39;00m exc\u001b[38;5;241m.\u001b[39mObjectNotExecutableError(statement) \u001b[38;5;28;01mfrom\u001b[39;00m\u001b[38;5;250m \u001b[39m\u001b[38;5;21;01merr\u001b[39;00m\n\u001b[1;32m   1415\u001b[0m \u001b[38;5;28;01melse\u001b[39;00m:\n\u001b[0;32m-> 1416\u001b[0m     \u001b[38;5;28;01mreturn\u001b[39;00m \u001b[43mmeth\u001b[49m\u001b[43m(\u001b[49m\n\u001b[1;32m   1417\u001b[0m \u001b[43m        \u001b[49m\u001b[38;5;28;43mself\u001b[39;49m\u001b[43m,\u001b[49m\n\u001b[1;32m   1418\u001b[0m \u001b[43m        \u001b[49m\u001b[43mdistilled_parameters\u001b[49m\u001b[43m,\u001b[49m\n\u001b[1;32m   1419\u001b[0m \u001b[43m        \u001b[49m\u001b[43mexecution_options\u001b[49m\u001b[43m \u001b[49m\u001b[38;5;129;43;01mor\u001b[39;49;00m\u001b[43m \u001b[49m\u001b[43mNO_OPTIONS\u001b[49m\u001b[43m,\u001b[49m\n\u001b[1;32m   1420\u001b[0m \u001b[43m    \u001b[49m\u001b[43m)\u001b[49m\n",
      "File \u001b[0;32m/opt/homebrew/Cellar/jupyterlab/4.3.5/libexec/lib/python3.13/site-packages/sqlalchemy/sql/elements.py:523\u001b[0m, in \u001b[0;36mClauseElement._execute_on_connection\u001b[0;34m(self, connection, distilled_params, execution_options)\u001b[0m\n\u001b[1;32m    521\u001b[0m     \u001b[38;5;28;01mif\u001b[39;00m TYPE_CHECKING:\n\u001b[1;32m    522\u001b[0m         \u001b[38;5;28;01massert\u001b[39;00m \u001b[38;5;28misinstance\u001b[39m(\u001b[38;5;28mself\u001b[39m, Executable)\n\u001b[0;32m--> 523\u001b[0m     \u001b[38;5;28;01mreturn\u001b[39;00m \u001b[43mconnection\u001b[49m\u001b[38;5;241;43m.\u001b[39;49m\u001b[43m_execute_clauseelement\u001b[49m\u001b[43m(\u001b[49m\n\u001b[1;32m    524\u001b[0m \u001b[43m        \u001b[49m\u001b[38;5;28;43mself\u001b[39;49m\u001b[43m,\u001b[49m\u001b[43m \u001b[49m\u001b[43mdistilled_params\u001b[49m\u001b[43m,\u001b[49m\u001b[43m \u001b[49m\u001b[43mexecution_options\u001b[49m\n\u001b[1;32m    525\u001b[0m \u001b[43m    \u001b[49m\u001b[43m)\u001b[49m\n\u001b[1;32m    526\u001b[0m \u001b[38;5;28;01melse\u001b[39;00m:\n\u001b[1;32m    527\u001b[0m     \u001b[38;5;28;01mraise\u001b[39;00m exc\u001b[38;5;241m.\u001b[39mObjectNotExecutableError(\u001b[38;5;28mself\u001b[39m)\n",
      "File \u001b[0;32m/opt/homebrew/Cellar/jupyterlab/4.3.5/libexec/lib/python3.13/site-packages/sqlalchemy/engine/base.py:1638\u001b[0m, in \u001b[0;36mConnection._execute_clauseelement\u001b[0;34m(self, elem, distilled_parameters, execution_options)\u001b[0m\n\u001b[1;32m   1626\u001b[0m compiled_cache: Optional[CompiledCacheType] \u001b[38;5;241m=\u001b[39m execution_options\u001b[38;5;241m.\u001b[39mget(\n\u001b[1;32m   1627\u001b[0m     \u001b[38;5;124m\"\u001b[39m\u001b[38;5;124mcompiled_cache\u001b[39m\u001b[38;5;124m\"\u001b[39m, \u001b[38;5;28mself\u001b[39m\u001b[38;5;241m.\u001b[39mengine\u001b[38;5;241m.\u001b[39m_compiled_cache\n\u001b[1;32m   1628\u001b[0m )\n\u001b[1;32m   1630\u001b[0m compiled_sql, extracted_params, cache_hit \u001b[38;5;241m=\u001b[39m elem\u001b[38;5;241m.\u001b[39m_compile_w_cache(\n\u001b[1;32m   1631\u001b[0m     dialect\u001b[38;5;241m=\u001b[39mdialect,\n\u001b[1;32m   1632\u001b[0m     compiled_cache\u001b[38;5;241m=\u001b[39mcompiled_cache,\n\u001b[0;32m   (...)\u001b[0m\n\u001b[1;32m   1636\u001b[0m     linting\u001b[38;5;241m=\u001b[39m\u001b[38;5;28mself\u001b[39m\u001b[38;5;241m.\u001b[39mdialect\u001b[38;5;241m.\u001b[39mcompiler_linting \u001b[38;5;241m|\u001b[39m compiler\u001b[38;5;241m.\u001b[39mWARN_LINTING,\n\u001b[1;32m   1637\u001b[0m )\n\u001b[0;32m-> 1638\u001b[0m ret \u001b[38;5;241m=\u001b[39m \u001b[38;5;28;43mself\u001b[39;49m\u001b[38;5;241;43m.\u001b[39;49m\u001b[43m_execute_context\u001b[49m\u001b[43m(\u001b[49m\n\u001b[1;32m   1639\u001b[0m \u001b[43m    \u001b[49m\u001b[43mdialect\u001b[49m\u001b[43m,\u001b[49m\n\u001b[1;32m   1640\u001b[0m \u001b[43m    \u001b[49m\u001b[43mdialect\u001b[49m\u001b[38;5;241;43m.\u001b[39;49m\u001b[43mexecution_ctx_cls\u001b[49m\u001b[38;5;241;43m.\u001b[39;49m\u001b[43m_init_compiled\u001b[49m\u001b[43m,\u001b[49m\n\u001b[1;32m   1641\u001b[0m \u001b[43m    \u001b[49m\u001b[43mcompiled_sql\u001b[49m\u001b[43m,\u001b[49m\n\u001b[1;32m   1642\u001b[0m \u001b[43m    \u001b[49m\u001b[43mdistilled_parameters\u001b[49m\u001b[43m,\u001b[49m\n\u001b[1;32m   1643\u001b[0m \u001b[43m    \u001b[49m\u001b[43mexecution_options\u001b[49m\u001b[43m,\u001b[49m\n\u001b[1;32m   1644\u001b[0m \u001b[43m    \u001b[49m\u001b[43mcompiled_sql\u001b[49m\u001b[43m,\u001b[49m\n\u001b[1;32m   1645\u001b[0m \u001b[43m    \u001b[49m\u001b[43mdistilled_parameters\u001b[49m\u001b[43m,\u001b[49m\n\u001b[1;32m   1646\u001b[0m \u001b[43m    \u001b[49m\u001b[43melem\u001b[49m\u001b[43m,\u001b[49m\n\u001b[1;32m   1647\u001b[0m \u001b[43m    \u001b[49m\u001b[43mextracted_params\u001b[49m\u001b[43m,\u001b[49m\n\u001b[1;32m   1648\u001b[0m \u001b[43m    \u001b[49m\u001b[43mcache_hit\u001b[49m\u001b[38;5;241;43m=\u001b[39;49m\u001b[43mcache_hit\u001b[49m\u001b[43m,\u001b[49m\n\u001b[1;32m   1649\u001b[0m \u001b[43m\u001b[49m\u001b[43m)\u001b[49m\n\u001b[1;32m   1650\u001b[0m \u001b[38;5;28;01mif\u001b[39;00m has_events:\n\u001b[1;32m   1651\u001b[0m     \u001b[38;5;28mself\u001b[39m\u001b[38;5;241m.\u001b[39mdispatch\u001b[38;5;241m.\u001b[39mafter_execute(\n\u001b[1;32m   1652\u001b[0m         \u001b[38;5;28mself\u001b[39m,\n\u001b[1;32m   1653\u001b[0m         elem,\n\u001b[0;32m   (...)\u001b[0m\n\u001b[1;32m   1657\u001b[0m         ret,\n\u001b[1;32m   1658\u001b[0m     )\n",
      "File \u001b[0;32m/opt/homebrew/Cellar/jupyterlab/4.3.5/libexec/lib/python3.13/site-packages/sqlalchemy/engine/base.py:1841\u001b[0m, in \u001b[0;36mConnection._execute_context\u001b[0;34m(self, dialect, constructor, statement, parameters, execution_options, *args, **kw)\u001b[0m\n\u001b[1;32m   1838\u001b[0m context\u001b[38;5;241m.\u001b[39mpre_exec()\n\u001b[1;32m   1840\u001b[0m \u001b[38;5;28;01mif\u001b[39;00m context\u001b[38;5;241m.\u001b[39mexecute_style \u001b[38;5;129;01mis\u001b[39;00m ExecuteStyle\u001b[38;5;241m.\u001b[39mINSERTMANYVALUES:\n\u001b[0;32m-> 1841\u001b[0m     \u001b[38;5;28;01mreturn\u001b[39;00m \u001b[38;5;28;43mself\u001b[39;49m\u001b[38;5;241;43m.\u001b[39;49m\u001b[43m_exec_insertmany_context\u001b[49m\u001b[43m(\u001b[49m\u001b[43mdialect\u001b[49m\u001b[43m,\u001b[49m\u001b[43m \u001b[49m\u001b[43mcontext\u001b[49m\u001b[43m)\u001b[49m\n\u001b[1;32m   1842\u001b[0m \u001b[38;5;28;01melse\u001b[39;00m:\n\u001b[1;32m   1843\u001b[0m     \u001b[38;5;28;01mreturn\u001b[39;00m \u001b[38;5;28mself\u001b[39m\u001b[38;5;241m.\u001b[39m_exec_single_context(\n\u001b[1;32m   1844\u001b[0m         dialect, context, statement, parameters\n\u001b[1;32m   1845\u001b[0m     )\n",
      "File \u001b[0;32m/opt/homebrew/Cellar/jupyterlab/4.3.5/libexec/lib/python3.13/site-packages/sqlalchemy/engine/base.py:2123\u001b[0m, in \u001b[0;36mConnection._exec_insertmany_context\u001b[0;34m(self, dialect, context)\u001b[0m\n\u001b[1;32m   2115\u001b[0m         dialect\u001b[38;5;241m.\u001b[39mdo_execute(\n\u001b[1;32m   2116\u001b[0m             cursor,\n\u001b[1;32m   2117\u001b[0m             sub_stmt,\n\u001b[1;32m   2118\u001b[0m             sub_params,\n\u001b[1;32m   2119\u001b[0m             context,\n\u001b[1;32m   2120\u001b[0m         )\n\u001b[1;32m   2122\u001b[0m \u001b[38;5;28;01mexcept\u001b[39;00m \u001b[38;5;167;01mBaseException\u001b[39;00m \u001b[38;5;28;01mas\u001b[39;00m e:\n\u001b[0;32m-> 2123\u001b[0m     \u001b[38;5;28;43mself\u001b[39;49m\u001b[38;5;241;43m.\u001b[39;49m\u001b[43m_handle_dbapi_exception\u001b[49m\u001b[43m(\u001b[49m\n\u001b[1;32m   2124\u001b[0m \u001b[43m        \u001b[49m\u001b[43me\u001b[49m\u001b[43m,\u001b[49m\n\u001b[1;32m   2125\u001b[0m \u001b[43m        \u001b[49m\u001b[43msql_util\u001b[49m\u001b[38;5;241;43m.\u001b[39;49m\u001b[43m_long_statement\u001b[49m\u001b[43m(\u001b[49m\u001b[43msub_stmt\u001b[49m\u001b[43m)\u001b[49m\u001b[43m,\u001b[49m\n\u001b[1;32m   2126\u001b[0m \u001b[43m        \u001b[49m\u001b[43msub_params\u001b[49m\u001b[43m,\u001b[49m\n\u001b[1;32m   2127\u001b[0m \u001b[43m        \u001b[49m\u001b[43mcursor\u001b[49m\u001b[43m,\u001b[49m\n\u001b[1;32m   2128\u001b[0m \u001b[43m        \u001b[49m\u001b[43mcontext\u001b[49m\u001b[43m,\u001b[49m\n\u001b[1;32m   2129\u001b[0m \u001b[43m        \u001b[49m\u001b[43mis_sub_exec\u001b[49m\u001b[38;5;241;43m=\u001b[39;49m\u001b[38;5;28;43;01mTrue\u001b[39;49;00m\u001b[43m,\u001b[49m\n\u001b[1;32m   2130\u001b[0m \u001b[43m    \u001b[49m\u001b[43m)\u001b[49m\n\u001b[1;32m   2132\u001b[0m \u001b[38;5;28;01mif\u001b[39;00m engine_events:\n\u001b[1;32m   2133\u001b[0m     \u001b[38;5;28mself\u001b[39m\u001b[38;5;241m.\u001b[39mdispatch\u001b[38;5;241m.\u001b[39mafter_cursor_execute(\n\u001b[1;32m   2134\u001b[0m         \u001b[38;5;28mself\u001b[39m,\n\u001b[1;32m   2135\u001b[0m         cursor,\n\u001b[0;32m   (...)\u001b[0m\n\u001b[1;32m   2139\u001b[0m         context\u001b[38;5;241m.\u001b[39mexecutemany,\n\u001b[1;32m   2140\u001b[0m     )\n",
      "File \u001b[0;32m/opt/homebrew/Cellar/jupyterlab/4.3.5/libexec/lib/python3.13/site-packages/sqlalchemy/engine/base.py:2352\u001b[0m, in \u001b[0;36mConnection._handle_dbapi_exception\u001b[0;34m(self, e, statement, parameters, cursor, context, is_sub_exec)\u001b[0m\n\u001b[1;32m   2350\u001b[0m \u001b[38;5;28;01melif\u001b[39;00m should_wrap:\n\u001b[1;32m   2351\u001b[0m     \u001b[38;5;28;01massert\u001b[39;00m sqlalchemy_exception \u001b[38;5;129;01mis\u001b[39;00m \u001b[38;5;129;01mnot\u001b[39;00m \u001b[38;5;28;01mNone\u001b[39;00m\n\u001b[0;32m-> 2352\u001b[0m     \u001b[38;5;28;01mraise\u001b[39;00m sqlalchemy_exception\u001b[38;5;241m.\u001b[39mwith_traceback(exc_info[\u001b[38;5;241m2\u001b[39m]) \u001b[38;5;28;01mfrom\u001b[39;00m\u001b[38;5;250m \u001b[39m\u001b[38;5;21;01me\u001b[39;00m\n\u001b[1;32m   2353\u001b[0m \u001b[38;5;28;01melse\u001b[39;00m:\n\u001b[1;32m   2354\u001b[0m     \u001b[38;5;28;01massert\u001b[39;00m exc_info[\u001b[38;5;241m1\u001b[39m] \u001b[38;5;129;01mis\u001b[39;00m \u001b[38;5;129;01mnot\u001b[39;00m \u001b[38;5;28;01mNone\u001b[39;00m\n",
      "File \u001b[0;32m/opt/homebrew/Cellar/jupyterlab/4.3.5/libexec/lib/python3.13/site-packages/sqlalchemy/engine/base.py:2115\u001b[0m, in \u001b[0;36mConnection._exec_insertmany_context\u001b[0;34m(self, dialect, context)\u001b[0m\n\u001b[1;32m   2113\u001b[0m             \u001b[38;5;28;01mbreak\u001b[39;00m\n\u001b[1;32m   2114\u001b[0m     \u001b[38;5;28;01melse\u001b[39;00m:\n\u001b[0;32m-> 2115\u001b[0m         \u001b[43mdialect\u001b[49m\u001b[38;5;241;43m.\u001b[39;49m\u001b[43mdo_execute\u001b[49m\u001b[43m(\u001b[49m\n\u001b[1;32m   2116\u001b[0m \u001b[43m            \u001b[49m\u001b[43mcursor\u001b[49m\u001b[43m,\u001b[49m\n\u001b[1;32m   2117\u001b[0m \u001b[43m            \u001b[49m\u001b[43msub_stmt\u001b[49m\u001b[43m,\u001b[49m\n\u001b[1;32m   2118\u001b[0m \u001b[43m            \u001b[49m\u001b[43msub_params\u001b[49m\u001b[43m,\u001b[49m\n\u001b[1;32m   2119\u001b[0m \u001b[43m            \u001b[49m\u001b[43mcontext\u001b[49m\u001b[43m,\u001b[49m\n\u001b[1;32m   2120\u001b[0m \u001b[43m        \u001b[49m\u001b[43m)\u001b[49m\n\u001b[1;32m   2122\u001b[0m \u001b[38;5;28;01mexcept\u001b[39;00m \u001b[38;5;167;01mBaseException\u001b[39;00m \u001b[38;5;28;01mas\u001b[39;00m e:\n\u001b[1;32m   2123\u001b[0m     \u001b[38;5;28mself\u001b[39m\u001b[38;5;241m.\u001b[39m_handle_dbapi_exception(\n\u001b[1;32m   2124\u001b[0m         e,\n\u001b[1;32m   2125\u001b[0m         sql_util\u001b[38;5;241m.\u001b[39m_long_statement(sub_stmt),\n\u001b[0;32m   (...)\u001b[0m\n\u001b[1;32m   2129\u001b[0m         is_sub_exec\u001b[38;5;241m=\u001b[39m\u001b[38;5;28;01mTrue\u001b[39;00m,\n\u001b[1;32m   2130\u001b[0m     )\n",
      "File \u001b[0;32m/opt/homebrew/Cellar/jupyterlab/4.3.5/libexec/lib/python3.13/site-packages/sqlalchemy/engine/default.py:942\u001b[0m, in \u001b[0;36mDefaultDialect.do_execute\u001b[0;34m(self, cursor, statement, parameters, context)\u001b[0m\n\u001b[1;32m    941\u001b[0m \u001b[38;5;28;01mdef\u001b[39;00m\u001b[38;5;250m \u001b[39m\u001b[38;5;21mdo_execute\u001b[39m(\u001b[38;5;28mself\u001b[39m, cursor, statement, parameters, context\u001b[38;5;241m=\u001b[39m\u001b[38;5;28;01mNone\u001b[39;00m):\n\u001b[0;32m--> 942\u001b[0m     \u001b[43mcursor\u001b[49m\u001b[38;5;241;43m.\u001b[39;49m\u001b[43mexecute\u001b[49m\u001b[43m(\u001b[49m\u001b[43mstatement\u001b[49m\u001b[43m,\u001b[49m\u001b[43m \u001b[49m\u001b[43mparameters\u001b[49m\u001b[43m)\u001b[49m\n",
      "\u001b[0;31mProgrammingError\u001b[0m: (pyodbc.ProgrammingError) ('42S22', \"[42S22] [Microsoft][ODBC Driver 17 for SQL Server][SQL Server]Invalid column name 'INVENTORY_YEAR;INVENTORY_MONTH;PRODUCT_NUMBER;INVENTORY_COUNT'. (207) (SQLExecDirectW)\")\n[SQL: INSERT INTO product_forecast ([INVENTORY_YEAR;INVENTORY_MONTH;PRODUCT_NUMBER;INVENTORY_COUNT]) VALUES (?), (?), (?), (?), (?), (?), (?), (?), (?), (?), (?), (?), (?), (?), (?), (?), (?), (?), (?), (?), (?), (?), (?), (?), (?), (?), (?), (?), (?), (?) ... 4750 characters truncated ... , (?), (?), (?), (?), (?), (?), (?), (?), (?), (?), (?), (?), (?), (?), (?), (?), (?), (?), (?), (?)]\n[parameters: ('2023;4;48;1932', '2023;4;49;1400', '2023;4;50;21705', '2023;4;51;9710', '2023;4;52;5616', '2023;4;53;7060', '2023;4;54;6943', '2023;4;55;4432', '2023;4;56;14188', '2023;4;57;1599', '2023;4;58;1645', '2023;4;59;749', '2023;4;60;8419', '2023;4;61;7175', '2023;4;62;2428', '2023;4;63;2091', '2023;4;64;4175', '2023;4;65;1754', '2023;4;66;576', '2023;4;67;1354', '2023;4;68;1576', '2023;4;69;609', '2023;4;70;803', '2023;4;71;1009', '2023;4;72;1009', '2023;4;73;1508', '2023;4;74;2690', '2023;4;75;2416', '2023;4;76;1938', '2023;4;77;2354', '2023;4;78;1073', '2023;4;79;733', '2023;4;80;889', '2023;4;81;573', '2023;4;82;2075', '2023;4;83;2034', '2023;4;84;-183', '2023;4;85;1390', '2023;4;86;17366', '2023;4;87;19789', '2023;4;88;18456', '2023;4;89;21414', '2023;4;90;29722', '2023;4;91;14100', '2023;4;92;6273', '2023;4;93;17880', '2023;4;94;26290', '2023;4;95;20552', '2023;4;96;3404', '2023;4;97;1375' ... 900 parameters truncated ... '2023;12;78;889', '2023;12;79;547', '2023;12;80;1327', '2023;12;81;939', '2023;12;82;3069', '2023;12;83;2362', '2023;12;84;1195', '2023;12;85;1624', '2023;12;86;11284', '2023;12;87;19731', '2023;12;88;15362', '2023;12;89;15364', '2023;12;90;21124', '2023;12;91;10098', '2023;12;92;4967', '2023;12;93;14606', '2023;12;94;19716', '2023;12;95;17402', '2023;12;96;2312', '2023;12;97;1421', '2023;12;98;7605', '2023;12;99;5043', '2023;12;100;5078', '2023;12;101;1221', '2023;12;102;1010', '2023;12;103;350', '2023;12;104;497', '2023;12;105;957', '2023;12;106;887', '2023;12;107;409', '2023;12;108;500', '2023;12;109;1161', '2023;12;110;1343', '2023;12;111;736', '2023;12;112;6764', '2023;12;113;3839', '2023;12;114;246', '2023;12;115;2462', '2024;1;1;6985', '2024;1;2;7862', '2024;1;3;4628', '2024;1;4;9386', '2024;1;5;2232', '2024;1;6;904', '2024;1;7;2627', '2024;1;8;1383', '2024;1;9;1885', '2024;1;10;6984', '2024;1;11;820', '2024;1;12;2108')]\n(Background on this error at: https://sqlalche.me/e/20/f405)"
     ]
    }
   ],
   "source": [
    "inventory_levels = pd.read_csv('../data/inventory_levels_volledig.csv')\n",
    "\n",
    "inventory_levels.to_sql('product_forecast', engine, if_exists='append', index=False)"
   ]
  },
  {
   "cell_type": "code",
   "execution_count": null,
   "id": "491e1de9-44b8-447e-a823-46a747cc58af",
   "metadata": {},
   "outputs": [],
   "source": []
  }
 ],
 "metadata": {
  "kernelspec": {
   "display_name": "Python 3 (ipykernel)",
   "language": "python",
   "name": "python3"
  },
  "language_info": {
   "codemirror_mode": {
    "name": "ipython",
    "version": 3
   },
   "file_extension": ".py",
   "mimetype": "text/x-python",
   "name": "python",
   "nbconvert_exporter": "python",
   "pygments_lexer": "ipython3",
   "version": "3.13.2"
  }
 },
 "nbformat": 4,
 "nbformat_minor": 5
}
